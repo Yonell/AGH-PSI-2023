{
 "cells": [
  {
   "cell_type": "markdown",
   "metadata": {
    "id": "bsnd8ck9-JhU"
   },
   "source": [
    "# Przetwarzanie języka naturalnego\n"
   ]
  },
  {
   "cell_type": "markdown",
   "metadata": {
    "id": "v5uQlTHTHN4r"
   },
   "source": [
    "## Wstęp\n",
    "\n",
    "Obecnie najpopularniejsze model służące do przetwarzania języka naturalnego wykorzystują architekturę transformacyjną. Istnieje kilka bibliotek, implementujących tę architekturę, ale w kontekście NLP najczęściej wykorzystuje się [Huggingface transformers](https://huggingface.co/docs/transformers/index).\n",
    "\n",
    "Biblioteka ta poza samym [kodem źródłowym](https://github.com/huggingface/transformers), zawiera szereg innych elementów. Do najważniejszych z nich należą:\n",
    "* [modele](https://huggingface.co/models) - olbrzymia i ciągle rosnąca liczba gotowych modeli, których możemy użyć do rozwiązywania wielu problemów z dziedziny NLP (ale również w zakresie rozpoznawania mowy, czy przetwarzania obrazu),\n",
    "* [zbiory danych](https://huggingface.co/datasets) - bardzo duży katalog przydatnych zbiorów danych, które możemy w prosty sposób wykorzystać do trenowania własnych modeli NLP (oraz innych modeli)."
   ]
  },
  {
   "cell_type": "markdown",
   "metadata": {
    "id": "JCVKT9diUlqT"
   },
   "source": [
    "## Weryfikacja dostępności GPU\n",
    "\n",
    "Trening modeli NLP wymaga dostępu do akceleratorów sprzętowych, przyspieszających uczenie sieci neuronowych. Jeśli nasz komputer nie jest wyposażony w GPU, to możemy skorzystać ze środowiska Google Colab.\n",
    "\n",
    "[![Open in Colab](https://colab.research.google.com/assets/colab-badge.svg)](https://colab.research.google.com/github/apohllo/sztuczna-inteligencja/blob/master/lab5/lab_5.ipynb)\n",
    "\n",
    "W tym środowisku możemy wybrać akcelerator spośród GPU i TPU.\n",
    "\n",
    "Sprawdźmy, czy mamy dostęp do środowiska wyposażonego w akcelerator NVidii:"
   ]
  },
  {
   "cell_type": "markdown",
   "source": [
    "!nvidia-smi"
   ],
   "metadata": {
    "collapsed": false
   }
  },
  {
   "cell_type": "markdown",
   "metadata": {
    "id": "9iHWHwumLJy-"
   },
   "source": [
    "Jeśli akcelerator jest niedostępny (polecenie skończyło się błędem), to zmieniamy środowisko wykonawcze wybierając z menu \"Środowisko wykonawcze\" -> \"Zmień typ środowiska wykonawczego\" -> GPU."
   ]
  },
  {
   "cell_type": "markdown",
   "metadata": {
    "id": "MTXP41EDFoA4"
   },
   "source": [
    "## Podpięcie dysku Google"
   ]
  },
  {
   "cell_type": "markdown",
   "metadata": {
    "id": "2qXbT070FoA4"
   },
   "source": [
    "Kolejnym elementem przygotowań, który jest opcjonalny, jest dołączenie własnego dysku Google Drive do środowiska Colab. Dzięki temu możliwe jest zapisywanie wytrenowanych modeli, w trakcie procesu treningu, na \"zewnętrznym\" dysku. Jeśli Google Colab doprowadzi do przerwania procesu treningu, to mimo wszystko pliki, które udało się zapisać w trakcie treningu nie przepadną. Możliwe będzie wznowienie treningu już na częściowo wytrenowanym modelu.\n",
    "\n",
    "W tym celu montujemy dysk Google w Colabie. Wymaga to autoryzacji narzędzia Colab w Google Drive."
   ]
  },
  {
   "cell_type": "markdown",
   "source": [
    "from google.colab import drive\n",
    "drive.mount('/content/gdrive')"
   ],
   "metadata": {
    "collapsed": false
   }
  },
  {
   "cell_type": "markdown",
   "metadata": {
    "id": "grytPGtiFoA4"
   },
   "source": [
    "Po podmontowaniu dysku mamy dostęp do całej zawartości Google Drive. Wskazując miejsce zapisywania danych w trakcie treningu należy wskazać ścieżkę zaczynającą się od `/content/gdrive`, ale należy wskazać jakiś podkatalog w ramach naszej przestrzeni dyskowej. Pełna ścieżka może mieć postać `/content/gdrive/MyDrive/output`. Przed uruchomieniem treningu warto sprawdzić, czy dane zapisują się na dysku."
   ]
  },
  {
   "cell_type": "markdown",
   "metadata": {
    "id": "Ubd7LV7kI3wo"
   },
   "source": [
    "## Instalacja bibliotek Pythona"
   ]
  },
  {
   "cell_type": "markdown",
   "metadata": {
    "id": "kJ_GoQx_K6sC"
   },
   "source": [
    "Następnie zainstalujemy wszystkie niezbędne biblioteki.\n",
    "Poza samą biblioteką `transformers`, instalujemy również biblioteki do zarządzania zbiorami danych `datasets`, bibliotekę definiującą wiele metryk wykorzystywanych w algorytmach AI `evaluate` oraz dodatkowe narzędzia takie jak `sacremoses` oraz `sentencepiece`."
   ]
  },
  {
   "cell_type": "markdown",
   "source": [
    "!pip install transformers==4.35.2 sacremoses==0.1.1 datasets==2.15.0 evaluate==0.4.1 sentencepiece==0.1.99 accelerate==0.24.1"
   ],
   "metadata": {
    "collapsed": false
   }
  },
  {
   "cell_type": "markdown",
   "metadata": {
    "id": "bJunO6pV_tRK"
   },
   "source": [
    "Mając zainstalowane niezbedne bilioteki, możemy skorzystać z wszystkich modeli i zbiorów danych zarejestrowanych w katalogu.\n",
    "\n",
    "Typowym sposobem użycia dostępnych modeli jest:\n",
    "* *wykorzystanie gotowego modelu*, który realizuje określone zadanie, np. [analizę senetymentu w języku angielskim](https://huggingface.co/finiteautomata/bertweet-base-sentiment-analysis) - model tego rodzaju nie musi być trenowywany, wystarczy go uruchomić aby uzyskać wynik klasyfikacji (można to zobaczyć w demo pod wskazanym linkiem),\n",
    "* *wykorzystanie modelu bazowego*, który jest dotrenowywany do określonego zadania; przykładem takiego modelu jest [HerBERT base](https://huggingface.co/allegro/herbert-base-cased), który uczony był jako maskowany model języka. Żeby wykorzystać go do konkretnego zadania, musimy wybrać dla niego \"głowę klasyfikacyjną\" oraz dotrenować na własnym zbiorze danych.\n",
    "\n",
    "Modele tego rodzaju różnią się od siebie, można je załadować za pomocą wspólnego interfejsu, ale najlepiej jest wykorzystać jedną ze specjalizowanych klas, dostosowanych do zadania, które chcemy zrealizować. Zaczniemy od załadowania modelu BERT base - jednego z najbardziej popularnych modeli, dla języka angielskiego. Za jego pomocą będziemy odgadywać brakujące wyrazy w tekście. Wykorzystamy do tego wywołanie `AutoModelForMaskedLM`."
   ]
  },
  {
   "cell_type": "code",
   "execution_count": 1,
   "metadata": {
    "id": "wTCDkZ1nKIEm",
    "outputId": "7bc53054-0acc-45d6-fb41-ad63296d1580"
   },
   "outputs": [
    {
     "name": "stderr",
     "output_type": "stream",
     "text": [
      "Some weights of the model checkpoint at bert-base-cased were not used when initializing BertForMaskedLM: ['bert.pooler.dense.weight', 'cls.seq_relationship.weight', 'bert.pooler.dense.bias', 'cls.seq_relationship.bias']\n",
      "- This IS expected if you are initializing BertForMaskedLM from the checkpoint of a model trained on another task or with another architecture (e.g. initializing a BertForSequenceClassification model from a BertForPreTraining model).\n",
      "- This IS NOT expected if you are initializing BertForMaskedLM from the checkpoint of a model that you expect to be exactly identical (initializing a BertForSequenceClassification model from a BertForSequenceClassification model).\n"
     ]
    }
   ],
   "source": [
    "from transformers import AutoModelForMaskedLM, AutoTokenizer\n",
    "\n",
    "model = AutoModelForMaskedLM.from_pretrained(\"bert-base-cased\")"
   ]
  },
  {
   "cell_type": "markdown",
   "metadata": {
    "id": "RCHU5ArMJZfC"
   },
   "source": [
    "Załadowany model jest modułem PyTorcha. Możemy zatem korzystać z API tej biblioteki. Możemy np. sprawdzić ile parametrów ma model BERT base:"
   ]
  },
  {
   "cell_type": "code",
   "execution_count": 2,
   "metadata": {
    "id": "M-dS04e4JX4x",
    "outputId": "2531e1fb-b619-400f-e1da-0a961fbe8baa"
   },
   "outputs": [
    {
     "data": {
      "text/plain": "'108 340 804'"
     },
     "execution_count": 2,
     "metadata": {},
     "output_type": "execute_result"
    }
   ],
   "source": [
    "count = sum(p.numel() for p in model.parameters() if p.requires_grad)\n",
    "\n",
    "'{:,}'.format(count).replace(',', ' ')"
   ]
  },
  {
   "cell_type": "markdown",
   "metadata": {
    "id": "S9aPClBxKEWq"
   },
   "source": [
    "Widzimi zatem, że nasz model jest bardzo duży - zawiera ponad 100 milionów parametrów, a jest to tzw. model bazowy. Modele obecnie wykorzystywane mają jeszcze więcej parametrów - duże modele językowe, takie jak ChatGPT posiadają więcej niż 100 miliardów parametrów.\n",
    "\n",
    "Możemy również podejrzeć samą strukturę modelu."
   ]
  },
  {
   "cell_type": "code",
   "execution_count": 3,
   "metadata": {
    "id": "TqCH8YrzKguC",
    "outputId": "b3f539b1-b29e-4186-a38d-e1bb73bf8d43"
   },
   "outputs": [
    {
     "data": {
      "text/plain": "BertForMaskedLM(\n  (bert): BertModel(\n    (embeddings): BertEmbeddings(\n      (word_embeddings): Embedding(28996, 768, padding_idx=0)\n      (position_embeddings): Embedding(512, 768)\n      (token_type_embeddings): Embedding(2, 768)\n      (LayerNorm): LayerNorm((768,), eps=1e-12, elementwise_affine=True)\n      (dropout): Dropout(p=0.1, inplace=False)\n    )\n    (encoder): BertEncoder(\n      (layer): ModuleList(\n        (0-11): 12 x BertLayer(\n          (attention): BertAttention(\n            (self): BertSelfAttention(\n              (query): Linear(in_features=768, out_features=768, bias=True)\n              (key): Linear(in_features=768, out_features=768, bias=True)\n              (value): Linear(in_features=768, out_features=768, bias=True)\n              (dropout): Dropout(p=0.1, inplace=False)\n            )\n            (output): BertSelfOutput(\n              (dense): Linear(in_features=768, out_features=768, bias=True)\n              (LayerNorm): LayerNorm((768,), eps=1e-12, elementwise_affine=True)\n              (dropout): Dropout(p=0.1, inplace=False)\n            )\n          )\n          (intermediate): BertIntermediate(\n            (dense): Linear(in_features=768, out_features=3072, bias=True)\n            (intermediate_act_fn): GELUActivation()\n          )\n          (output): BertOutput(\n            (dense): Linear(in_features=3072, out_features=768, bias=True)\n            (LayerNorm): LayerNorm((768,), eps=1e-12, elementwise_affine=True)\n            (dropout): Dropout(p=0.1, inplace=False)\n          )\n        )\n      )\n    )\n  )\n  (cls): BertOnlyMLMHead(\n    (predictions): BertLMPredictionHead(\n      (transform): BertPredictionHeadTransform(\n        (dense): Linear(in_features=768, out_features=768, bias=True)\n        (transform_act_fn): GELUActivation()\n        (LayerNorm): LayerNorm((768,), eps=1e-12, elementwise_affine=True)\n      )\n      (decoder): Linear(in_features=768, out_features=28996, bias=True)\n    )\n  )\n)"
     },
     "execution_count": 3,
     "metadata": {},
     "output_type": "execute_result"
    }
   ],
   "source": [
    "model"
   ]
  },
  {
   "cell_type": "markdown",
   "metadata": {
    "id": "gdgyGz752126"
   },
   "source": [
    "# Tokenizacja tekstu"
   ]
  },
  {
   "cell_type": "markdown",
   "metadata": {
    "id": "zmX8eu_mB9CO"
   },
   "source": [
    "Załadowanie samego modelu nie jest jednak wystarczające, żeby zacząć go wykorzystywać. Musimy mieć mechanizm zamiany tekstu (łańcucha znaków), na ciąg tokenów, należących do określonego słownika. W trakcie treningu modelu, słownik ten jest określany (wybierany w sposób algorytmiczny) przed właściwym treningiem sieci neuronowej. Choć możliwe jest jego późniejsze rozszerzenie (douczenie na danych treningowych, pozwala również uzyskać reprezentację brakujących tokenów), to zwykle wykorzystuje się słownik w postaci, która została określona przed treningiem sieci neuronowej. Dlatego tak istotne jest wskazanie właściwego słownika dla tokenizera dokonującego podziału tekstu.\n",
    "\n",
    "Biblioteka posiada klasę `AutoTokenizer`, która akceptuje nazwę modelu, co pozwala automatycznie załadować słownik korespondujący z wybranym modelem sieci neuronowej. Trzeba jednak pamiętać, że jeśli używamy 2 modeli, to każdy z nich najpewniej będzie miał inny słownik, a co za tym idzie muszą one mieć własne instancje klasy `Tokenizer`."
   ]
  },
  {
   "cell_type": "code",
   "execution_count": 4,
   "metadata": {
    "id": "PYUsVa1fBTPW",
    "outputId": "a868fa3a-ed91-4319-b0bb-25d2917dd1f3"
   },
   "outputs": [
    {
     "data": {
      "text/plain": "BertTokenizerFast(name_or_path='bert-base-cased', vocab_size=28996, model_max_length=512, is_fast=True, padding_side='right', truncation_side='right', special_tokens={'unk_token': '[UNK]', 'sep_token': '[SEP]', 'pad_token': '[PAD]', 'cls_token': '[CLS]', 'mask_token': '[MASK]'}, clean_up_tokenization_spaces=True),  added_tokens_decoder={\n\t0: AddedToken(\"[PAD]\", rstrip=False, lstrip=False, single_word=False, normalized=False, special=True),\n\t100: AddedToken(\"[UNK]\", rstrip=False, lstrip=False, single_word=False, normalized=False, special=True),\n\t101: AddedToken(\"[CLS]\", rstrip=False, lstrip=False, single_word=False, normalized=False, special=True),\n\t102: AddedToken(\"[SEP]\", rstrip=False, lstrip=False, single_word=False, normalized=False, special=True),\n\t103: AddedToken(\"[MASK]\", rstrip=False, lstrip=False, single_word=False, normalized=False, special=True),\n}"
     },
     "execution_count": 4,
     "metadata": {},
     "output_type": "execute_result"
    }
   ],
   "source": [
    "tokenizer = AutoTokenizer.from_pretrained(\"bert-base-cased\")\n",
    "tokenizer"
   ]
  },
  {
   "cell_type": "markdown",
   "metadata": {
    "id": "rXIePLylEFx2"
   },
   "source": [
    "Tokenizer posługuje się słownikiem o stałym rozmiarze. Podowuje to oczywiście, że nie wszystkie wyrazy występujące w tekście, będą się w nim znajdowały. Co więcej, jeśli użyjemy tokenizera do podziału tekstu w innym języku, niż ten dla którego został on stworzony, to taki tekst będzie dzielony na większą liczbę tokenów."
   ]
  },
  {
   "cell_type": "code",
   "execution_count": 5,
   "metadata": {
    "id": "DAGb1Jzhtr9p",
    "outputId": "4b910774-f2e7-4c85-bab5-16f7753a528c"
   },
   "outputs": [
    {
     "name": "stdout",
     "output_type": "stream",
     "text": [
      "tensor([[  101,  1109,  3613,  3058, 17594, 15457,  1166,  1103, 16688,  3676,\n",
      "           119,   102]])\n",
      "torch.Size([1, 12])\n",
      "tensor([[  101,   163,  1161, 28259,  7774, 20671,  7128,   176, 28221, 28244,\n",
      "          1233, 28213,   179,  1161, 28257, 19339,   119,   102]])\n",
      "torch.Size([1, 18])\n"
     ]
    }
   ],
   "source": [
    "sentence1 = tokenizer.encode(\n",
    "    \"The quick brown fox jumps over the lazy dog.\", return_tensors=\"pt\"\n",
    ")\n",
    "print(sentence1)\n",
    "print(sentence1.shape)\n",
    "\n",
    "sentence2 = tokenizer.encode(\"Zażółć gęślą jaźń.\", return_tensors=\"pt\")\n",
    "print(sentence2)\n",
    "print(sentence2.shape)"
   ]
  },
  {
   "cell_type": "markdown",
   "metadata": {
    "id": "2ILQRogoErrt"
   },
   "source": [
    "Korzystająć z tokenizera dla języka angielsiego do podziału polskiego zdania, widzimy, że otrzymujemy znacznie większą liczbę tokenów. Żeby zobaczyć, w jaki sposób tokenizer dokonał podziału tekstu, możemy wykorzystać wywołanie `covert_ids_to_tokens`:"
   ]
  },
  {
   "cell_type": "code",
   "execution_count": 6,
   "metadata": {
    "id": "DOnw6mq81QFg",
    "outputId": "37e7ae97-0b4d-4c4d-ccde-ba7852c10510"
   },
   "outputs": [
    {
     "name": "stdout",
     "output_type": "stream",
     "text": [
      "[CLS]|The|quick|brown|fox|jumps|over|the|lazy|dog|.|[SEP]\n",
      "[CLS]|Z|##a|##ż|##ó|##ł|##ć|g|##ę|##ś|##l|##ą|j|##a|##ź|##ń|.|[SEP]\n"
     ]
    }
   ],
   "source": [
    "print(\"|\".join(tokenizer.convert_ids_to_tokens(list(sentence1[0]))))\n",
    "print(\"|\".join(tokenizer.convert_ids_to_tokens(list(sentence2[0]))))"
   ]
  },
  {
   "cell_type": "markdown",
   "metadata": {
    "id": "VZzt3-w5GQDB"
   },
   "source": [
    "Widzimy, że dla jęzka angielskiego wszystkie wyrazy w zdaniu zostały przekształcone w pojedyncze tokeny. W przypadku zdania w języku polskim, zawierającego szereg znaków diakrytycznych sytuacja jest zupełnie inna - każdy znak został wyodrębniony do osobnego sub-tokenu. To, że mamy do czynienia z sub-tokenami sygnalizowane jest przez dwa krzyżyki poprzedzające dany sub-token. Oznaczają one, że ten sub-token musi być sklejony z porzedzającym go tokenem, aby uzyskać właściwy łańcuch znaków.\n",
    "\n",
    "## Zadanie 1 (0.5 punkt)\n",
    "\n",
    "Wykorzystaj tokenizer dla modelu `allegro/herbert-base-cased`, aby dokonać tokenizacji tych samych zdań. Jakie wnioski można wyciągnąć przyglądając się sposobowi tokenizacji za pomocą różnych słowników?"
   ]
  },
  {
   "cell_type": "code",
   "execution_count": 8,
   "metadata": {
    "ExecuteTime": {
     "end_time": "2022-12-20T13:58:00.312979Z",
     "start_time": "2022-12-20T13:58:00.303639Z"
    },
    "id": "qEir3EhlHHaQ",
    "outputId": "adef2677-a426-4f8a-aa4a-41677b5a3455"
   },
   "outputs": [
    {
     "name": "stdout",
     "output_type": "stream",
     "text": [
      "tensor([[    0,  7117, 22991,  4879, 25015,  1016,  3435,  1055,  2202,  4952,\n",
      "          1010,    83, 10259,  6854,  2050,  3852,  2065,  1031,  1899,     2]])\n",
      "torch.Size([1, 20])\n",
      "tensor([[    0,  2237,  7227,  1048,  7029, 46389,  2059,   272,  1059,  1899,\n",
      "             2]])\n",
      "torch.Size([1, 11])\n",
      "<s>|The</w>|qui|ck</w>|brow|n</w>|fo|x</w>|ju|mp|s</w>|o|ver</w>|the</w>|la|zy</w>|do|g</w>|.</w>|</s>\n",
      "<s>|Za|żół|ć</w>|gę|ślą</w>|ja|ź|ń</w>|.</w>|</s>\n"
     ]
    }
   ],
   "source": [
    "# your_code\n",
    "tokenizerallegro = AutoTokenizer.from_pretrained(\"allegro/herbert-base-cased\")\n",
    "sentence1allegro = tokenizerallegro.encode(\n",
    "    \"The quick brown fox jumps over the lazy dog.\", return_tensors=\"pt\"\n",
    ")\n",
    "sentence2allegro = tokenizerallegro.encode(\"Zażółć gęślą jaźń.\", return_tensors=\"pt\")\n",
    "print(sentence1allegro)\n",
    "print(sentence1allegro.shape)\n",
    "print(sentence2allegro)\n",
    "print(sentence2allegro.shape)\n",
    "print(\"|\".join(tokenizerallegro.convert_ids_to_tokens(list(sentence1allegro[0]))))\n",
    "print(\"|\".join(tokenizerallegro.convert_ids_to_tokens(list(sentence2allegro[0]))))"
   ]
  },
  {
   "cell_type": "markdown",
   "metadata": {
    "id": "US-hA9UMOPk_"
   },
   "source": [
    "Wniosek można wyciągnąć taki, że różne słowniki tokenizują teksty w różny sposób. W przypadku słownika `allegro/herbert-base-cased` , radzi on sobie o wiele lepiej z językiem polskim, a angielski z kolei trochę bardziej rozbija, niż `bert-base-cased`."
   ]
  },
  {
   "cell_type": "markdown",
   "metadata": {
    "id": "HJquTQTDHLQY"
   },
   "source": [
    "W wynikach tokenizacji poza wyrazami/tokenami występującymi w oryginalnym tekście pojawiają się jeszcze dodatkowe znaczniki `[CLS]` oraz `[SEP]` (albo inne znaczniki - w zależności od użytego słownika). Mają one specjalne znaczenie i mogą być wykorzystywane do realizacji specyficznych funkcji związanych z analizą tekstu. Np. reprezentacja tokenu `[CLS]` wykorzystywana jest w zadaniach klasyfikacji zdań. Z kolei token `[SEP]` wykorzystywany jest do odróżnienia zdań, w zadaniach wymagających na wejściu dwóch zdań (np. określenia, na ile zdania te są podobne do siebie).\n"
   ]
  },
  {
   "cell_type": "markdown",
   "metadata": {
    "id": "tFR6OfWBU0TP"
   },
   "source": [
    "# Modelowanie języka"
   ]
  },
  {
   "cell_type": "markdown",
   "metadata": {
    "id": "F2dVbEVuOoy1"
   },
   "source": [
    "Modele pretrenowane w reżimie self-supervised learning (SSL) nie posiadają specjalnych zdolności w zakresie rozwiązywania konkretnych zadań z zakresu przetwarzania języka naturalnego, takich jak odpowiadanie na pytania, czy klasyfikacja tekstu (z wyjątkiem bardzo dużych modeli, takich jak np. GPT-3, których model językowy zdolny jest do predykcji np. sensownych odpowiedzi na pytania). Można je jednak wykorzystać do określania prawdopodobieństwa wyrazów w tekście, a tym samym do sprawdzenia, jaką wiedzę posiada określony model w zakresie znajomości języka, czy też ogólną wiedzę o świecie.\n",
    "\n",
    "Aby sprawdzić jak model radzi sobie w tych zadaniach, możemy dokonać inferencji na danych wejściowych, w których niektóre wyrazy zostaną zastąpione specjalnymi symbolami maskującymi, wykorzystywanymi w trakcie pre-treningu modelu.\n",
    "\n",
    "Należy mieć na uwadze, że różne modele mogą korzystać z różnych specjalnych sekwencji w trakcie pretreningu. Np. Bert korzysta z sekwencji `[MASK]`. Wygląd tokenu maskującego lub jego identyfikator możemy sprawdzić w [pliku konfiguracji tokenizera](https://huggingface.co/bert-base-cased/raw/main/tokenizer.json) dystrubowanym razem z modelem, albo odczytać wprost z instancji tokenizera.\n",
    "\n",
    "W pierwszej kolejności, spróbujemy uzupełnić brakujący wyraz w angielskim zdaniu."
   ]
  },
  {
   "cell_type": "code",
   "execution_count": 9,
   "metadata": {
    "id": "YgV2T4C3xsaD",
    "outputId": "b10aff26-f9d3-4a8f-b73a-f78b89ce467c"
   },
   "outputs": [
    {
     "name": "stdout",
     "output_type": "stream",
     "text": [
      "[CLS]|The|quick|brown|[MASK]|jumps|over|the|lazy|dog|.|[SEP]\n",
      "tensor([-5.3489, -5.6063, -5.1303,  ..., -5.9625, -4.1559, -4.5403],\n",
      "       grad_fn=<SelectBackward0>)\n"
     ]
    }
   ],
   "source": [
    "sentence_en = tokenizer.encode(\n",
    "    \"The quick brown [MASK] jumps over the lazy dog.\", return_tensors=\"pt\"\n",
    ")\n",
    "print(\"|\".join(tokenizer.convert_ids_to_tokens(list(sentence_en[0]))))\n",
    "target = model(sentence_en)\n",
    "print(target.logits[0][4])"
   ]
  },
  {
   "cell_type": "markdown",
   "metadata": {
    "id": "zc5CfCfSRV5E"
   },
   "source": [
    "Ponieważ zdanie po stokenizowaniu uzupełniane jest znacznikiem `[CLS]`, to zamaskowane słowo znajduje się na 4 pozycji. Wywołanie `target.logits[0][4]` pokazuje tensor z rozkładem prawdopodobieństwa poszczególnych wyrazów, które zostało określone na podstawie parametrów modelu. Możemy wybrać wyrazy, które posiadają największe prawdopodobieństwo, korzystając z wywołania `torch.topk`:"
   ]
  },
  {
   "cell_type": "code",
   "execution_count": 10,
   "metadata": {
    "id": "C3ugmBzhz5uu",
    "outputId": "186e2120-a547-4e04-ac14-ec85571ba55b"
   },
   "outputs": [
    {
     "data": {
      "text/plain": "torch.return_types.topk(\nvalues=tensor([12.1982, 11.2289, 10.6009, 10.1278, 10.0120], grad_fn=<TopkBackward0>),\nindices=tensor([ 3676,  1663,  5855,  4965, 21566]))"
     },
     "execution_count": 10,
     "metadata": {},
     "output_type": "execute_result"
    }
   ],
   "source": [
    "import torch\n",
    "\n",
    "top = torch.topk(target.logits[0][4], 5)\n",
    "top"
   ]
  },
  {
   "cell_type": "markdown",
   "metadata": {
    "id": "Xz5nw1LbR5Va"
   },
   "source": [
    "Otrzymaliśmy dwa wektory - `values` zawierający składowe wektora wyjściowego sieci neuronowej (nieznormalizowane) oraz `indices` zawierający indeksy tych składowych. Na tej podstawie możemy wyświetlić wyraz, które według modelu są najbardziej prawdopodobnymi uzupełnieniami zamaskowanego wyrazu:"
   ]
  },
  {
   "cell_type": "code",
   "execution_count": 11,
   "metadata": {
    "id": "kkZKTw0J2BUn"
   },
   "outputs": [],
   "source": [
    "words = tokenizer.convert_ids_to_tokens(top.indices)"
   ]
  },
  {
   "cell_type": "code",
   "execution_count": 12,
   "metadata": {
    "id": "kmDVEzZQ2Omz",
    "outputId": "6f25cbcd-5b9b-4323-aec6-794d9b000e5b"
   },
   "outputs": [
    {
     "data": {
      "text/plain": "<BarContainer object of 5 artists>"
     },
     "execution_count": 12,
     "metadata": {},
     "output_type": "execute_result"
    },
    {
     "data": {
      "text/plain": "<Figure size 640x480 with 1 Axes>",
      "image/png": "[encoded data removed]"
     },
     "metadata": {},
     "output_type": "display_data"
    }
   ],
   "source": [
    "import matplotlib.pyplot as plt\n",
    "\n",
    "plt.bar(words, top.values.detach().numpy())"
   ]
  },
  {
   "cell_type": "markdown",
   "metadata": {
    "id": "792etHKPSZrx"
   },
   "source": [
    "Według modelu najbardziej prawdopodobnym uzupełnieniem brakującego wyrazu jest `dog` (a nie `fox`). Nieco zaskakujący może być drugi wyraz `##ie`, ale po dodaniu go do istniejącego tekstu otrzymamy zdanie: \"The quick brownie jumps over the lazy dog\", które również wydaje się sensowne (choć nieco zaskakujące)."
   ]
  },
  {
   "cell_type": "markdown",
   "metadata": {
    "id": "1QK7MybnTT-h"
   },
   "source": [
    "## Zadanie 2 (1.5 punkty)\n",
    "\n",
    "Wykorzystując model `allegro/herbert-base-cased` zaproponuj zdania z jednym brakującym wyrazem, weryfikujące zdolność tego modelu do:\n",
    "* odmiany przez polskie przypadki,\n",
    "* uwzględniania długodystansowych związków w tekście,\n",
    "* reprezentowania wiedzy o świecie.\n",
    "\n",
    "Dla każdego problemu wymyśl po 3 zdania sprawdzające i wyświetl predykcję dla 5 najbardziej prawdopodobnych wyrazów.\n",
    "\n",
    "Możesz wykorzystać kod z funkcji `plot_words`, który ułatwi Ci wyświetlanie wyników. Zweryfikuj również jaki token maskujący wykorzystywany jest w tym modelu. Pamiętaj również o załadowaniu modelu `allegro/herbert-base-cased`.\n",
    "\n",
    "Oceń zdolności modelu w zakresie wskazanych zadań."
   ]
  },
  {
   "cell_type": "code",
   "execution_count": 13,
   "metadata": {
    "ExecuteTime": {
     "end_time": "2022-12-20T13:58:13.903939Z",
     "start_time": "2022-12-20T13:58:13.886635Z"
    },
    "id": "iy1RYqMvTKEe",
    "outputId": "b8c33f57-9ee4-42e9-e016-4d64f4806cb3"
   },
   "outputs": [
    {
     "name": "stdout",
     "output_type": "stream",
     "text": [
      "<s>|Katarzyna</w>|<mask>|piękny</w>|obraz</w>|.</w>|</s>\n"
     ]
    },
    {
     "data": {
      "text/plain": "<Figure size 640x480 with 1 Axes>",
      "image/png": "[encoded data removed]"
     },
     "metadata": {},
     "output_type": "display_data"
    },
    {
     "name": "stdout",
     "output_type": "stream",
     "text": [
      "<s>|To</w>|stworzenie</w>|to</w>|był</w>|kot</w>|.</w>|Pomimo</w>|tego</w>|,</w>|że</w>|było</w>|ono</w>|z</w>|innego</w>|wymiaru</w>|,</w>|nadal</w>|było</w>|<mask>|.</w>|</s>\n"
     ]
    },
    {
     "data": {
      "text/plain": "<Figure size 640x480 with 1 Axes>",
      "image/png": "[encoded data removed]"
     },
     "metadata": {},
     "output_type": "display_data"
    },
    {
     "name": "stdout",
     "output_type": "stream",
     "text": [
      "<s>|Ze</w>|wszystkich</w>|państw</w>|na</w>|świecie</w>|<mask>|jest</w>|największym</w>|ekspor|terem</w>|pota|su</w>|.</w>|</s>\n"
     ]
    },
    {
     "data": {
      "text/plain": "<Figure size 640x480 with 1 Axes>",
      "image/png": "[encoded data removed]"
     },
     "metadata": {},
     "output_type": "display_data"
    },
    {
     "name": "stdout",
     "output_type": "stream",
     "text": [
      "<s>|Woda</w>|zama|rza</w>|poniżej</w>|<mask>|stopni</w>|Cel|ci|usza</w>|.</w>|</s>\n"
     ]
    },
    {
     "data": {
      "text/plain": "<Figure size 640x480 with 1 Axes>",
      "image/png": "[encoded data removed]"
     },
     "metadata": {},
     "output_type": "display_data"
    }
   ],
   "source": [
    "def plot_words(sentence, word_model, word_tokenizer, mask=\"[MASK]\"):\n",
    "    sentence = word_tokenizer.encode(sentence, return_tensors=\"pt\")\n",
    "    tokens = word_tokenizer.convert_ids_to_tokens(list(sentence[0]))\n",
    "    print(\"|\".join(tokens))\n",
    "    target = word_model(sentence)\n",
    "    top = torch.topk(target.logits[0][tokens.index(mask)], 5)\n",
    "    words = word_tokenizer.convert_ids_to_tokens(top.indices)\n",
    "    plt.xticks(rotation=45)\n",
    "    plt.bar(words, top.values.detach().numpy())\n",
    "    plt.show()\n",
    "\n",
    "tokenizer2 = AutoTokenizer.from_pretrained(\"allegro/herbert-base-cased\")\n",
    "model2 = AutoModelForMaskedLM.from_pretrained(\"allegro/herbert-base-cased\")\n",
    "plot_words(\"Katarzyna <mask> piękny obraz.\", model2, tokenizer2, \"<mask>\")\n",
    "\n",
    "\n",
    "plot_words(\"To stworzenie to był kot. Pomimo tego, że było ono z innego wymiaru, nadal było <mask>.\", model2, tokenizer2,  \"<mask>\")\n",
    "plot_words(\"Ze wszystkich państw na świecie <mask> jest największym eksporterem potasu.\", model2, tokenizer2,  \"<mask>\")\n",
    "\n",
    "\n",
    "plot_words(\"Woda zamarza poniżej <mask> stopni Celciusza.\", model2, tokenizer2,  \"<mask>\")\n"
   ]
  },
  {
   "cell_type": "markdown",
   "metadata": {
    "id": "C0D3wjqU5E7s"
   },
   "source": []
  },
  {
   "cell_type": "markdown",
   "metadata": {
    "id": "qe3jkYN4X0K6"
   },
   "source": [
    "# Klasyfikacja tekstu\n",
    "\n",
    "Pierwszym zadaniem, które zrealizujemy korzystając z modelu HerBERT będzie klasyfikacja tekstu. Będzie to jednak dość nietypowe zadanie. O ile oczekiwanym wynikiem jest klasyfikacja binarna, czyli dość popularny typ klasyfikacji, o tyle dane wejściowe są nietypowe, gdyż są to pary: `(pytanie, kontekst)`. Celem algorytmu jest określenie, czy na zadane pytanie można odpowiedzieć na podstawie informacji znajdujących się w kontekście.\n",
    "\n",
    "Model tego rodzaju jest nietypowy, ponieważ jest to zadanie z zakresu klasyfikacji par tekstów, ale my potraktujemy je jak zadanie klasyfikacji jednego tekstu, oznaczając jedynie fragmenty tekstu jako `Pytanie:` oraz `Kontekst:`. Wykorzystamy tutaj zdolność modeli transformacyjnych do automatycznego nauczenia się tego rodzaju znaczników, przez co proces przygotowania danych będzie bardzo uproszczony.\n",
    "\n",
    "Zbiorem danych, który wykorzystamy do treningu i ewaluacji modelu będzie PoQUAD - zbiór inspirowany angielskim [SQuADem](https://rajpurkar.github.io/SQuAD-explorer/), czyli zbiorem zawierającym ponad 100 tys. pytań i odpowiadających im odpowiedzi. Zbiór ten powstał niedawno i jest jeszcze rozbudowywany. Zawiera on pytania, odpowiedzi oraz konteksty, na podstawie których można udzielić odpowiedzi.\n",
    "\n",
    "W dalszej części laboratorium skoncentrujemy się na problemie odpowiadania na pytania."
   ]
  },
  {
   "cell_type": "markdown",
   "metadata": {
    "id": "xJFq2RGgVArz"
   },
   "source": [
    "## Przygotowanie danych do klasyfikacji\n",
    "\n",
    "Przygotowanie danych rozpoczniemy od sklonowania repozytorium zawierającego pytania i odpowiedzi."
   ]
  },
  {
   "cell_type": "code",
   "execution_count": 14,
   "metadata": {
    "id": "ASJlTuYmxnsO",
    "outputId": "9ed19504-7bac-4222-c888-020177e711c0"
   },
   "outputs": [],
   "source": [
    "from datasets import load_dataset\n",
    "\n",
    "dataset = load_dataset(\"clarin-pl/poquad\")"
   ]
  },
  {
   "cell_type": "markdown",
   "metadata": {
    "id": "1IArBUss6j5L"
   },
   "source": [
    "Sprawdźmy co znajduje się w zbiorze danych."
   ]
  },
  {
   "cell_type": "code",
   "execution_count": 15,
   "metadata": {
    "id": "MpE1sTIuwKr0",
    "outputId": "7e655d5f-cfa3-4171-c280-5293538c314d"
   },
   "outputs": [
    {
     "data": {
      "text/plain": "DatasetDict({\n    train: Dataset({\n        features: ['id', 'title', 'context', 'question', 'answers'],\n        num_rows: 46187\n    })\n    validation: Dataset({\n        features: ['id', 'title', 'context', 'question', 'answers'],\n        num_rows: 5764\n    })\n})"
     },
     "execution_count": 15,
     "metadata": {},
     "output_type": "execute_result"
    }
   ],
   "source": [
    "dataset"
   ]
  },
  {
   "cell_type": "markdown",
   "metadata": {
    "id": "Qu_APsiB6mLo"
   },
   "source": [
    "Zbiór danych jest podzielony na dwie części: treningową i walidacyjną. Rozmiar części treningowej to ponad 46 tysięcy pytań i odpowiedzi, natomiast części walidacyjnej to ponad 5 tysięcy pytań i odpowiedzi."
   ]
  },
  {
   "cell_type": "markdown",
   "metadata": {
    "id": "GxdjcmsD6yc6"
   },
   "source": [
    "Dane zbioru przechowywane są w plikach `poquad_train.json` oraz `poquad_dev.json`. Dostarczenie podziału na te grupy danych jest bardzo częstą praktyką w przypadku publicznych, dużych zbiorów danych, gdyż umożliwia porównywanie różnych modeli, korzystając z dokładnie takiego samego zestawu danych. Prawdopodobnie istnieje również zbiór `poquad_test.json`, który jednak nie jest udostępniany publicznie. Tak jest w przypadku SQuADu - twórcy zbioru automatycznie ewaluują dostarczane modele, ale nie udstoępniaja zbioru testowego. Dzięki temu trudniej jest nadmiernie dopasować model do danych testowych.\n",
    "\n",
    "Struktura każdej z dostępnych części jest taka sama. Zgodnie z powyższą informacją zawiera ona następujące elementy:\n",
    "* `id` - identyfikator pary: pytanie - odpowiedź,\n",
    "* `title` - tytuł artykułu z Wikipedii, na podstawie którego utworzono parę,\n",
    "* `context` - fragment treści artykułu z Wikipedii, zawierający odpowiedź na pytanie,\n",
    "* `question` - pytanie,\n",
    "* `answers` - odpowiedzi.\n",
    "\n",
    "Możemy wyświetlić kilka począkotwych wpisów części treningowej:"
   ]
  },
  {
   "cell_type": "code",
   "execution_count": 16,
   "metadata": {
    "id": "i3ZLmxlzx4wd",
    "outputId": "103735b5-7532-44fa-f5f9-d113edb42ded"
   },
   "outputs": [
    {
     "data": {
      "text/plain": "['Co było powodem powrócenia konceptu porozumieniu monachijskiego?',\n 'Pomiędzy jakimi stronami odbyło się zgromadzenie w sierpniu 1942 roku?',\n 'O co ubiegali się polscy przedstawiciele podczas spotkania z sierpnia 1942 roku?',\n \"Który z dyplomatów sprzeciwił się konceptowi konfederacji w listopadzie '42?\",\n 'Kiedy oficjalnie doszło do zawarcia porozumienia?']"
     },
     "execution_count": 16,
     "metadata": {},
     "output_type": "execute_result"
    }
   ],
   "source": [
    "dataset['train']['question'][:5]"
   ]
  },
  {
   "cell_type": "code",
   "execution_count": 17,
   "metadata": {
    "id": "-YewsI8Dymaq",
    "outputId": "2b6e8041-c797-4f40-eb0b-c3b3d250ff64"
   },
   "outputs": [
    {
     "data": {
      "text/plain": "[{'text': ['wymianą listów Ripka – Stroński'], 'answer_start': [117]},\n {'text': ['E. Beneša i J. Masaryka z jednej a Wł. Sikorskiego i E. Raczyńskiego'],\n  'answer_start': [197]},\n {'text': ['podpisanie układu konfederacyjnego'], 'answer_start': [315]},\n {'text': ['E. Beneš'], 'answer_start': [558]},\n {'text': ['20 listopada 1942'], 'answer_start': [691]}]"
     },
     "execution_count": 17,
     "metadata": {},
     "output_type": "execute_result"
    }
   ],
   "source": [
    "dataset['train']['answers'][:5]"
   ]
  },
  {
   "cell_type": "markdown",
   "metadata": {
    "id": "_rlhCQp_3kEJ"
   },
   "source": [
    "Niestety, autorzy zbioru danych, pomimo tego, że dane te znajdują się w źródłowym zbiorze danych, nie udostępniają dwóch ważnych informacji: o tym, czy można odpowiedzieć na dane pytanie oraz jak brzmi generatywna odpowiedź na pytanie. Dlatego póki nie zostanie to naprawione, będziemy dalej pracowąć z oryginalnymi plikami zbioru danych, które dostępne są na stronie opisującej zbiór danych: https://huggingface.co/datasets/clarin-pl/poquad/tree/main\n",
    "\n",
    "Pobierz manualnie zbiory `poquad-dev.json` oraz `poquad-train.json`."
   ]
  },
  {
   "cell_type": "markdown",
   "source": [
    "!wget https://huggingface.co/datasets/clarin-pl/poquad/raw/main/poquad-dev.json\n",
    "!wget https://huggingface.co/datasets/clarin-pl/poquad/resolve/main/poquad-train.json"
   ],
   "metadata": {
    "collapsed": false
   }
  },
  {
   "cell_type": "markdown",
   "metadata": {
    "id": "NPQoBTFn4S30"
   },
   "source": [
    "Dla bezpieczeństwa, jeśli korzystamy z Google drive, to przeniesiemy pliki do naszego dysku:"
   ]
  },
  {
   "cell_type": "markdown",
   "source": [
    "!mkdir gdrive/MyDrive/poquad\n",
    "!mv poquad-dev.json gdrive/MyDrive/poquad\n",
    "!mv poquad-train.json gdrive/MyDrive/poquad\n",
    "\n",
    "!head -30 gdrive/MyDrive/poquad/poquad-dev.json"
   ],
   "metadata": {
    "collapsed": false
   }
  },
  {
   "cell_type": "markdown",
   "metadata": {
    "id": "QjFnqM538V_9"
   },
   "source": [
    "Struktura pliku odpowiada strukturze danych w zbiorze SQuAD. Dane umieszczone są w kluczu `data` i podzielone na krotki odpowiadające pojedynczym artykułom Wikipedii. W ramach artykułu może być wybranych jeden lub więcej paragrafów, dla których w kluczu `qas` pojawiają się pytania (`question`), flaga `is_impossible`, wskazujace czy można odpowiedzieć na pytanie oraz odpowiedzi (o ile nie jest ustawiona flaga `is_impossible`). Odpowiedzi może być wiele i składają się one z treści odpowiedzi (`text`) traktowanej jako fragment kontekstu, a także naturalnej odpowiedzi na pytanie (`generative_answer`).\n",
    "\n",
    "Taki podział może wydawać się dziwny, ale zbiór SQuAD zawiera tylko odpowiedzi pierwszego rodzaju. Wynika to z faktu, że w języku angielskim fragment tekstu będzie często stanowił dobrą odpowiedź na pytanie (oczywiście z wyjątkiem pytań dla których odpowiedź to `tak` lub `nie`).\n",
    "\n",
    "Natomiast ten drugi typ odpowiedzi jest szczególnie przydatny dla języka polskiego, ponieważ często odpowiedź chcemy syntaktycznie dostosować do pytania, co jest niemożliwe, jeśli odpowiedź wskazywana jest jako fragment kontekstu.\n",
    "W sytuacji, w której odpowiedzi były określane w sposób automatyczny, są one oznaczone jako `plausible_answers`.\n",
    "\n",
    "Zaczniemy od wczytania danych i wyświetlenia podstawowych statystyk dotyczących ilości artykułów oraz przypisanych do nich pytań."
   ]
  },
  {
   "cell_type": "code",
   "execution_count": 4,
   "metadata": {
    "id": "BDbf_9LKxuyJ",
    "outputId": "e15c36f6-d2b0-436c-83d3-15626c5f194c"
   },
   "outputs": [
    {
     "name": "stdout",
     "output_type": "stream",
     "text": [
      "Train data articles: 8553\n",
      "Dev data articles: 1402\n",
      "Train questions: 41577\n",
      "Dev questions: 6809\n"
     ]
    }
   ],
   "source": [
    "import json\n",
    "\n",
    "# Adjust for your needs\n",
    "path = \".\"\n",
    "\n",
    "with open(path + \"/poquad-train.json\", encoding=\"utf8\") as input:\n",
    "    train_data = json.loads(input.read())[\"data\"]\n",
    "\n",
    "print(f\"Train data articles: {len(train_data)}\")\n",
    "\n",
    "with open(path +\"/poquad-dev.json\", encoding=\"utf8\") as input:\n",
    "    dev_data = json.loads(input.read())[\"data\"]\n",
    "\n",
    "print(f\"Dev data articles: {len(dev_data)}\")\n",
    "\n",
    "print(f\"Train questions: {sum([len(e['paragraphs'][0]['qas']) for e in train_data])}\")\n",
    "print(f\"Dev questions: {sum([len(e['paragraphs'][0]['qas']) for e in dev_data])}\")"
   ]
  },
  {
   "cell_type": "markdown",
   "metadata": {
    "id": "vrLTRuCz-4nv"
   },
   "source": [
    "Ponieważ w pierwszym problemie chcemy stwierdzić, czy na pytanie można udzielić odpowiedzi na podstawie kontekstu, połączymy wszystkie konteksty w jedną tablicę, aby móc losować z niej dane negatywne, gdyż liczba pytań nie posiadających odpowiedzi jest stosunkowo mała, co prowadziłoby utworzenia niezbalansowanego zbioru."
   ]
  },
  {
   "cell_type": "code",
   "execution_count": 5,
   "metadata": {
    "id": "c-1WgbVA1wsy"
   },
   "outputs": [],
   "source": [
    "all_contexts = [e[\"paragraphs\"][0][\"context\"] for e in train_data] + [\n",
    "    e[\"paragraphs\"][0][\"context\"] for e in dev_data\n",
    "]"
   ]
  },
  {
   "cell_type": "markdown",
   "metadata": {
    "id": "3Md-nxc7_jPy"
   },
   "source": [
    "W kolejnym kroku zamieniamy dane w formacie JSON na reprezentację zgodną z przyjętym założeniem.\n",
    "Chcemy by kontekst oraz pytanie występowały obok siebie i każdy z elementów był sygnalizowany wyrażeniem: `Pytanie:` i `Kontekst:`. Treść klasyfikowanego tekstu przyporządkowujemy do klucza `text`, natomiast klasę do klucza `label`, gdyż takie są oczekiwanie biblioteki Transformer.\n",
    "\n",
    "Pytania, które mają ustawiną flagę `is_impossible` na `True` trafiają wprost do przekształconego zbioru. Dla pytań, które posiadają odpowiedź, dodatkowo losowany jest jeden kontekst, który stanowi negatywny przykład. Weryfikujemy tylko, czy kontekst ten nie pokrywa się z kontekstem, który przypisany był do pytania. Nie przeprowadzamy bardziej zaawansowanych analiz, które pomogłyby wylkuczyć sytuację, w której inny kontekst również zawiera odpowiedź na pytanie, gdyż prawdopodobieństwo wylosowania takiego kontekstu jest bardzo małe.\n",
    "\n",
    "Na końcu wyświetlamy statystyki utworzonego zbioru danych."
   ]
  },
  {
   "cell_type": "code",
   "execution_count": 6,
   "metadata": {
    "id": "lbCkeE_f5Yg8",
    "outputId": "4015db0c-9826-4d88-f1cf-c9b9989f8c87"
   },
   "outputs": [
    {
     "name": "stdout",
     "output_type": "stream",
     "text": [
      "Total count in train/dev: 75605/12372\n",
      "Positive count in train/dev: 34028/5563\n"
     ]
    }
   ],
   "source": [
    "import random\n",
    "\n",
    "\n",
    "tuples = [[], []]\n",
    "\n",
    "for idx, dataset in enumerate([train_data, dev_data]):\n",
    "    for data in dataset:\n",
    "        context = data[\"paragraphs\"][0][\"context\"]\n",
    "        for question_answers in data[\"paragraphs\"][0][\"qas\"]:\n",
    "            question = question_answers[\"question\"]\n",
    "            if question_answers[\"is_impossible\"]:\n",
    "                tuples[idx].append(\n",
    "                    {\n",
    "                        \"text\": f\"Pytanie: {question} Kontekst: {context}\",\n",
    "                        \"label\": 0,\n",
    "                    }\n",
    "                )\n",
    "            else:\n",
    "                tuples[idx].append(\n",
    "                    {\n",
    "                        \"text\": f\"Pytanie: {question} Kontekst: {context}\",\n",
    "                        \"label\": 1,\n",
    "                    }\n",
    "                )\n",
    "                while True:\n",
    "                    negative_context = random.choice(all_contexts)\n",
    "                    if negative_context != context:\n",
    "                        tuples[idx].append(\n",
    "                            {\n",
    "                                \"text\": f\"Pytanie: {question} Kontekst: {negative_context}\",\n",
    "                                \"label\": 0,\n",
    "                            }\n",
    "                        )\n",
    "                        break\n",
    "\n",
    "train_tuples, dev_tuples = tuples\n",
    "print(f\"Total count in train/dev: {len(train_tuples)}/{len(dev_tuples)}\")\n",
    "print(\n",
    "    f\"Positive count in train/dev: {sum([e['label'] for e in train_tuples])}/{sum([e['label'] for e in dev_tuples])}\"\n",
    ")"
   ]
  },
  {
   "cell_type": "markdown",
   "metadata": {
    "id": "V2fQbatcAj5b"
   },
   "source": [
    "Widzimy, że uzyskane zbiory danych cechują się dość dobrym zbalansowaniem.\n",
    "\n",
    "Dobrą praktyką po wprowadzeniu zmian w zbiorze danych, jest wyświetlenie kilku przykładowych punktów danych, w celu wykrycia ewentualnych błędów, które powstały na etapie konwersji zbioru. Pozwala to uniknąć nieprzyjemnych niespodzianek, np. stworzenie identycznego zbioru danych testowych i treningowych."
   ]
  },
  {
   "cell_type": "code",
   "execution_count": 7,
   "metadata": {
    "id": "Lr-oeLgR9H75",
    "outputId": "e0e0f02b-3fcd-44f8-9521-c966e6b7a6c3"
   },
   "outputs": [
    {
     "name": "stdout",
     "output_type": "stream",
     "text": [
      "[{'text': 'Pytanie: Co było powodem powrócenia konceptu porozumieniu monachijskiego? Kontekst: Projekty konfederacji zaczęły się załamywać 5 sierpnia 1942. Ponownie wróciła kwestia monachijska, co uaktywniło się wymianą listów Ripka – Stroński. Natomiast 17 sierpnia 1942 doszło do spotkania E. Beneša i J. Masaryka z jednej a Wł. Sikorskiego i E. Raczyńskiego z drugiej strony. Polscy dyplomaci zaproponowali podpisanie układu konfederacyjnego. W następnym miesiącu, tj. 24 września, strona polska przesłała na ręce J. Masaryka projekt deklaracji o przyszłej konfederacji obu państw. Strona czechosłowacka projekt przyjęła, lecz już w listopadzie 1942 E. Beneš podważył ideę konfederacji. W zamian zaproponowano zawarcie układu sojuszniczego z Polską na 20 lat (formalnie nastąpiło to 20 listopada 1942).', 'label': 1}]\n",
      "[{'text': 'Pytanie: Czym są pisma rabiniczne? Kontekst: Pisma rabiniczne – w tym Miszna – stanowią kompilację poglądów różnych rabinów na określony temat. Zgodnie z wierzeniami judaizmu Mojżesz otrzymał od Boga całą Torę, ale w dwóch częściach: jedną część w formie pisanej, a drugą część w formie ustnej. Miszna – jako Tora ustna – była traktowana nie tylko jako uzupełnienie Tory spisanej, ale również jako jej interpretacja i wyjaśnienie w konkretnych sytuacjach życiowych. Tym samym Miszna stanowiąca kodeks Prawa religijnego zaczęła równocześnie służyć za jego ustnie przekazywany podręcznik.', 'label': 1}]\n"
     ]
    }
   ],
   "source": [
    "print(train_tuples[0:1])\n",
    "print(dev_tuples[0:1])"
   ]
  },
  {
   "cell_type": "markdown",
   "metadata": {
    "id": "bTTry7LfBXKb"
   },
   "source": [
    "Ponieważ mamy nowe zbiory danych, możemy opakować je w klasy ułatwiające manipulowanie nimi. Ma to szczególne znaczenie w kontekście szybkiej tokenizacji tych danych, czy późniejszego szybkiego wczytywania wcześniej utworzonych zbiorów danych.\n",
    "\n",
    "W tym celu wykorzystamy bibliotekę `datasets`. Jej kluczowymi klasami są `Dataset` reprezentujący jeden z podzbiorów zbioru danych (np. podzbiór testowy) oraz `DatasetDict`, który łączy wszystkie podzbiory w jeden obiekt, którym możemy manipulować w całości. (Gdyby autorzy udostępnili odpowiedni skrypt ze zbiorem, moglibyśmy wykorzystać tę bibliotekę bez dodatkowej pracy).\n",
    "\n",
    "Dodatkowo zapiszemy tak utworzony zbiór danych na dysku. Jeśli później chcielibyśmy wykorzystać stworzony zbiór danych, to możemy to zrobić za pomocą komendy `load_dataset`."
   ]
  },
  {
   "cell_type": "code",
   "execution_count": 8,
   "metadata": {
    "id": "rtTsPgmiDdG8"
   },
   "outputs": [
    {
     "data": {
      "text/plain": "Saving the dataset (0/1 shards):   0%|          | 0/75605 [00:00<?, ? examples/s]",
      "application/vnd.jupyter.widget-view+json": {
       "version_major": 2,
       "version_minor": 0,
       "model_id": "3dcf52166e7040cc94cee8e7e5ec4926"
      }
     },
     "metadata": {},
     "output_type": "display_data"
    },
    {
     "data": {
      "text/plain": "Saving the dataset (0/1 shards):   0%|          | 0/12372 [00:00<?, ? examples/s]",
      "application/vnd.jupyter.widget-view+json": {
       "version_major": 2,
       "version_minor": 0,
       "model_id": "536f27daffba4c8db577119aabaeaf9c"
      }
     },
     "metadata": {},
     "output_type": "display_data"
    }
   ],
   "source": [
    "from datasets import Dataset, DatasetDict\n",
    "\n",
    "train_dataset = Dataset.from_list(train_tuples)\n",
    "dev_dataset = Dataset.from_list(dev_tuples)\n",
    "datasets = DatasetDict({\"train\": train_dataset, \"dev\": dev_dataset})\n",
    "datasets.save_to_disk(path + \"/question-context-classification\")"
   ]
  },
  {
   "cell_type": "markdown",
   "metadata": {
    "id": "ORcWOWjiCAhu"
   },
   "source": [
    "Dane tekstowe przed przekazaniem do modelu wymagają tokenizacji (co widzieliśmy już wcześniej). Efektywne wykonanie tokenizacji na całym zbiorze danych ułatwione jest przez obiekt `DatasetDict`. Definiujemy funkcję `tokenize_function`, która korzystając z załadowanego tokenizera, zamienia tekst na identyfikatory.\n",
    "\n",
    "W wywołaniu używamy opcji `padding` - uzupełniamy wszystkie teksty do długości najdłuższego tekstu. Dodatkowo, jeśli któryś tekst wykracza poza maksymalną długość obsługiwaną przez model, to jest on przycinany (`truncation=True`).\n",
    "\n",
    "Tokenizację aplikujemy do zbioru z wykorzystaniem przetwarzania batchowego (`batched=True`), które pozwala na szybsze stokenizowanie dużego zbioru danych."
   ]
  },
  {
   "cell_type": "code",
   "execution_count": 9,
   "metadata": {
    "id": "WLJSYvpFFlfO",
    "outputId": "ea1d2507-427d-44ec-bd0d-eb73f0aedb60"
   },
   "outputs": [
    {
     "data": {
      "text/plain": "Map:   0%|          | 0/75605 [00:00<?, ? examples/s]",
      "application/vnd.jupyter.widget-view+json": {
       "version_major": 2,
       "version_minor": 0,
       "model_id": "62476deea40948df8069c91f3186f7f2"
      }
     },
     "metadata": {},
     "output_type": "display_data"
    },
    {
     "data": {
      "text/plain": "Map:   0%|          | 0/12372 [00:00<?, ? examples/s]",
      "application/vnd.jupyter.widget-view+json": {
       "version_major": 2,
       "version_minor": 0,
       "model_id": "1250ac036e794bd7aa449779690da7e4"
      }
     },
     "metadata": {},
     "output_type": "display_data"
    },
    {
     "data": {
      "text/plain": "Dataset({\n    features: ['text', 'label', 'input_ids', 'token_type_ids', 'attention_mask'],\n    num_rows: 75605\n})"
     },
     "execution_count": 9,
     "metadata": {},
     "output_type": "execute_result"
    }
   ],
   "source": [
    "from transformers import AutoTokenizer\n",
    "\n",
    "pl_tokenizer = AutoTokenizer.from_pretrained(\"allegro/herbert-base-cased\")\n",
    "\n",
    "def tokenize_function(examples):\n",
    "    return pl_tokenizer(examples[\"text\"], padding=\"max_length\", truncation=True)\n",
    "\n",
    "\n",
    "tokenized_datasets = datasets.map(tokenize_function, batched=True)\n",
    "tokenized_datasets[\"train\"]"
   ]
  },
  {
   "cell_type": "markdown",
   "metadata": {
    "id": "X5FJ54OLS0hK"
   },
   "source": [
    "Stokenizowane dane zawierają dodatkowe pola: `input_ids`, `token_type_ids` oraz `attention_mask`. Dla nas najważniejsze jest pole `input_ids`, które zawiera identyfikatory tokenów. Pozostałe dwa pola są ustawione na identyczne wartości (wszystkie tokeny mają ten sam typ, maska atencji zawiera wszystkie niezerowe tokeny), więc nie są one dla nas zbyt interesujące. Zobaczmy pola `text`, `input_ids` oraz `attention_mask` dla pierwszego przykładu:"
   ]
  },
  {
   "cell_type": "code",
   "execution_count": 24,
   "metadata": {
    "id": "mgCExFTHSEYq",
    "outputId": "d612f2ce-b33f-4b9a-a31b-a8f51d285e26"
   },
   "outputs": [
    {
     "name": "stdout",
     "output_type": "stream",
     "text": [
      "Pytanie: Co było powodem powrócenia konceptu porozumieniu monachijskiego? Kontekst: Projekty konfederacji zaczęły się załamywać 5 sierpnia 1942. Ponownie wróciła kwestia monachijska, co uaktywniło się wymianą listów Ripka – Stroński. Natomiast 17 sierpnia 1942 doszło do spotkania E. Beneša i J. Masaryka z jednej a Wł. Sikorskiego i E. Raczyńskiego z drugiej strony. Polscy dyplomaci zaproponowali podpisanie układu konfederacyjnego. W następnym miesiącu, tj. 24 września, strona polska przesłała na ręce J. Masaryka projekt deklaracji o przyszłej konfederacji obu państw. Strona czechosłowacka projekt przyjęła, lecz już w listopadzie 1942 E. Beneš podważył ideę konfederacji. W zamian zaproponowano zawarcie układu sojuszniczego z Polską na 20 lat (formalnie nastąpiło to 20 listopada 1942).\n",
      "[0, 14142, 1335, 3407, 2404, 14736, 6491, 4081, 6743, 2213, 19824, 25437, 3096, 13875, 1550, 2922, 8413, 1335, 46771, 2152, 17914, 10278, 2022, 11314, 37410, 1008, 4983, 19240, 1899, 38382, 14919, 9091, 25437, 3096, 18290, 1947, 2249, 89, 12539, 2742, 2135, 2022, 45310, 8404, 6242, 8221, 1680, 7701, 2547, 1899, 5016, 2571, 4983, 19240, 5073, 2041, 4261, 1039, 1899, 13287, 254, 1011, 1009, 1071, 1899, 2306, 7634, 40838, 1046, 4192, 1011, 59, 1032, 1899, 25496, 1009, 1039, 1899, 2710, 11553, 1046, 3885, 3441, 1899, 24175, 11467, 2057, 35267, 26991, 10374, 2152, 11098, 1990, 4206, 1899, 1049, 13360, 11794, 1947, 11171, 1899, 2902, 4464, 1947, 11287, 7677, 11610, 2158, 1998, 6428, 1071, 1899, 2306, 7634, 40838, 4555, 17695, 1007, 24584, 2152, 17914, 5351, 8373, 1899, 24649, 2052, 2014, 21425, 3056, 4555, 16248, 1947, 4269, 2267, 1019, 11738, 19240, 1039, 1899, 13287, 1107, 33851, 4561, 28060, 2152, 17914, 1899, 1049, 11721, 34366, 36004, 10374, 20003, 5311, 1046, 11695, 1998, 2440, 2460, 1341, 19046, 14608, 2063, 2440, 5252, 19240, 1940, 1899, 2, 1, 1, 1, 1, 1, 1, 1, 1, 1, 1, 1, 1, 1, 1, 1, 1, 1, 1, 1, 1, 1, 1, 1, 1, 1, 1, 1, 1, 1, 1, 1, 1, 1, 1, 1, 1, 1, 1, 1, 1, 1, 1, 1, 1, 1, 1, 1, 1, 1, 1, 1, 1, 1, 1, 1, 1, 1, 1, 1, 1, 1, 1, 1, 1, 1, 1, 1, 1, 1, 1, 1, 1, 1, 1, 1, 1, 1, 1, 1, 1, 1, 1, 1, 1, 1, 1, 1, 1, 1, 1, 1, 1, 1, 1, 1, 1, 1, 1, 1, 1, 1, 1, 1, 1, 1, 1, 1, 1, 1, 1, 1, 1, 1, 1, 1, 1, 1, 1, 1, 1, 1, 1, 1, 1, 1, 1, 1, 1, 1, 1, 1, 1, 1, 1, 1, 1, 1, 1, 1, 1, 1, 1, 1, 1, 1, 1, 1, 1, 1, 1, 1, 1, 1, 1, 1, 1, 1, 1, 1, 1, 1, 1, 1, 1, 1, 1, 1, 1, 1, 1, 1, 1, 1, 1, 1, 1, 1, 1, 1, 1, 1, 1, 1, 1, 1, 1, 1, 1, 1, 1, 1, 1, 1, 1, 1, 1, 1, 1, 1, 1, 1, 1, 1, 1, 1, 1, 1, 1, 1, 1, 1, 1, 1, 1, 1, 1, 1, 1, 1, 1, 1, 1, 1, 1, 1, 1, 1, 1, 1, 1, 1, 1, 1, 1, 1, 1, 1, 1, 1, 1, 1, 1, 1, 1, 1, 1, 1, 1, 1, 1, 1, 1, 1, 1, 1, 1, 1, 1, 1, 1, 1, 1, 1, 1, 1, 1, 1, 1, 1, 1, 1, 1, 1, 1, 1, 1, 1, 1, 1, 1, 1, 1, 1, 1, 1, 1, 1, 1, 1, 1, 1, 1, 1, 1, 1, 1, 1, 1, 1, 1, 1, 1, 1, 1, 1, 1, 1, 1, 1, 1, 1, 1, 1, 1, 1, 1, 1, 1, 1, 1, 1, 1, 1, 1, 1, 1, 1, 1, 1, 1, 1, 1, 1, 1, 1, 1, 1, 1, 1, 1, 1, 1, 1]\n",
      "[1, 1, 1, 1, 1, 1, 1, 1, 1, 1, 1, 1, 1, 1, 1, 1, 1, 1, 1, 1, 1, 1, 1, 1, 1, 1, 1, 1, 1, 1, 1, 1, 1, 1, 1, 1, 1, 1, 1, 1, 1, 1, 1, 1, 1, 1, 1, 1, 1, 1, 1, 1, 1, 1, 1, 1, 1, 1, 1, 1, 1, 1, 1, 1, 1, 1, 1, 1, 1, 1, 1, 1, 1, 1, 1, 1, 1, 1, 1, 1, 1, 1, 1, 1, 1, 1, 1, 1, 1, 1, 1, 1, 1, 1, 1, 1, 1, 1, 1, 1, 1, 1, 1, 1, 1, 1, 1, 1, 1, 1, 1, 1, 1, 1, 1, 1, 1, 1, 1, 1, 1, 1, 1, 1, 1, 1, 1, 1, 1, 1, 1, 1, 1, 1, 1, 1, 1, 1, 1, 1, 1, 1, 1, 1, 1, 1, 1, 1, 1, 1, 1, 1, 1, 1, 1, 1, 1, 1, 1, 1, 1, 1, 1, 1, 1, 1, 1, 1, 1, 0, 0, 0, 0, 0, 0, 0, 0, 0, 0, 0, 0, 0, 0, 0, 0, 0, 0, 0, 0, 0, 0, 0, 0, 0, 0, 0, 0, 0, 0, 0, 0, 0, 0, 0, 0, 0, 0, 0, 0, 0, 0, 0, 0, 0, 0, 0, 0, 0, 0, 0, 0, 0, 0, 0, 0, 0, 0, 0, 0, 0, 0, 0, 0, 0, 0, 0, 0, 0, 0, 0, 0, 0, 0, 0, 0, 0, 0, 0, 0, 0, 0, 0, 0, 0, 0, 0, 0, 0, 0, 0, 0, 0, 0, 0, 0, 0, 0, 0, 0, 0, 0, 0, 0, 0, 0, 0, 0, 0, 0, 0, 0, 0, 0, 0, 0, 0, 0, 0, 0, 0, 0, 0, 0, 0, 0, 0, 0, 0, 0, 0, 0, 0, 0, 0, 0, 0, 0, 0, 0, 0, 0, 0, 0, 0, 0, 0, 0, 0, 0, 0, 0, 0, 0, 0, 0, 0, 0, 0, 0, 0, 0, 0, 0, 0, 0, 0, 0, 0, 0, 0, 0, 0, 0, 0, 0, 0, 0, 0, 0, 0, 0, 0, 0, 0, 0, 0, 0, 0, 0, 0, 0, 0, 0, 0, 0, 0, 0, 0, 0, 0, 0, 0, 0, 0, 0, 0, 0, 0, 0, 0, 0, 0, 0, 0, 0, 0, 0, 0, 0, 0, 0, 0, 0, 0, 0, 0, 0, 0, 0, 0, 0, 0, 0, 0, 0, 0, 0, 0, 0, 0, 0, 0, 0, 0, 0, 0, 0, 0, 0, 0, 0, 0, 0, 0, 0, 0, 0, 0, 0, 0, 0, 0, 0, 0, 0, 0, 0, 0, 0, 0, 0, 0, 0, 0, 0, 0, 0, 0, 0, 0, 0, 0, 0, 0, 0, 0, 0, 0, 0, 0, 0, 0, 0, 0, 0, 0, 0, 0, 0, 0, 0, 0, 0, 0, 0, 0, 0, 0, 0, 0, 0, 0, 0, 0, 0, 0, 0, 0, 0, 0, 0, 0, 0, 0, 0, 0, 0, 0, 0, 0, 0, 0, 0, 0, 0, 0, 0, 0, 0, 0, 0, 0]\n"
     ]
    }
   ],
   "source": [
    "example = tokenized_datasets[\"train\"][0]\n",
    "print(example[\"text\"])\n",
    "print(example[\"input_ids\"])\n",
    "print(example[\"attention_mask\"])"
   ]
  },
  {
   "cell_type": "markdown",
   "metadata": {
    "id": "WnG0EEHi782A"
   },
   "source": [
    "Możem też sprawdzić, jak został stokenizowany pierwszy przykład:"
   ]
  },
  {
   "cell_type": "code",
   "execution_count": 25,
   "metadata": {
    "id": "NsfJDuhN8Acj",
    "outputId": "11ecd719-6553-4d0b-c4a0-71d7eb29f65d"
   },
   "outputs": [
    {
     "name": "stdout",
     "output_type": "stream",
     "text": [
      "<s>|Pytanie</w>|:</w>|Co</w>|było</w>|powodem</w>|powró|cenia</w>|koncep|tu</w>|porozumieniu</w>|mona|chi|jskiego</w>|?</w>|Kon|tekst</w>|:</w>|Projekty</w>|kon|federacji</w>|zaczęły</w>|się</w>|zała|mywać</w>|5</w>|sierpnia</w>|1942</w>|.</w>|Ponownie</w>|wróciła</w>|kwestia</w>|mona|chi|jska</w>|,</w>|co</w>|u|akty|wni|ło</w>|się</w>|wymianą</w>|listów</w>|Ri|pka</w>|–</w>|Stro|ński</w>|.</w>|Natomiast</w>|17</w>|sierpnia</w>|1942</w>|doszło</w>|do</w>|spotkania</w>|E</w>|.</w>|Bene|š|a</w>|i</w>|J</w>|.</w>|Ma|sar|yka</w>|z</w>|jednej</w>|a</w>|W|ł</w>|.</w>|Sikorskiego</w>|i</w>|E</w>|.</w>|Ra|czyńskiego</w>|z</w>|drugiej</w>|strony</w>|.</w>|Polscy</w>|dyploma|ci</w>|zaproponowali</w>|podpisanie</w>|układu</w>|kon|fede|ra|cyjnego</w>|.</w>|W</w>|następnym</w>|miesiącu</w>|,</w>|tj</w>|.</w>|24</w>|września</w>|,</w>|strona</w>|polska</w>|przesł|ała</w>|na</w>|ręce</w>|J</w>|.</w>|Ma|sar|yka</w>|projekt</w>|deklaracji</w>|o</w>|przyszłej</w>|kon|federacji</w>|obu</w>|państw</w>|.</w>|Strona</w>|cze|ch|osłowa|cka</w>|projekt</w>|przyjęła</w>|,</w>|lecz</w>|już</w>|w</w>|listopadzie</w>|1942</w>|E</w>|.</w>|Bene|š</w>|podwa|żył</w>|ideę</w>|kon|federacji</w>|.</w>|W</w>|zamian</w>|zaproponowano</w>|zawarcie</w>|układu</w>|sojusz|niczego</w>|z</w>|Polską</w>|na</w>|20</w>|lat</w>|(</w>|formalnie</w>|nastąpiło</w>|to</w>|20</w>|listopada</w>|1942</w>|)</w>|.</w>|</s>|<pad>|<pad>|<pad>|<pad>|<pad>|<pad>|<pad>|<pad>|<pad>|<pad>|<pad>|<pad>|<pad>|<pad>|<pad>|<pad>|<pad>|<pad>|<pad>|<pad>|<pad>|<pad>|<pad>|<pad>|<pad>|<pad>|<pad>|<pad>|<pad>|<pad>|<pad>|<pad>|<pad>|<pad>|<pad>|<pad>|<pad>|<pad>|<pad>|<pad>|<pad>|<pad>|<pad>|<pad>|<pad>|<pad>|<pad>|<pad>|<pad>|<pad>|<pad>|<pad>|<pad>|<pad>|<pad>|<pad>|<pad>|<pad>|<pad>|<pad>|<pad>|<pad>|<pad>|<pad>|<pad>|<pad>|<pad>|<pad>|<pad>|<pad>|<pad>|<pad>|<pad>|<pad>|<pad>|<pad>|<pad>|<pad>|<pad>|<pad>|<pad>|<pad>|<pad>|<pad>|<pad>|<pad>|<pad>|<pad>|<pad>|<pad>|<pad>|<pad>|<pad>|<pad>|<pad>|<pad>|<pad>|<pad>|<pad>|<pad>|<pad>|<pad>|<pad>|<pad>|<pad>|<pad>|<pad>|<pad>|<pad>|<pad>|<pad>|<pad>|<pad>|<pad>|<pad>|<pad>|<pad>|<pad>|<pad>|<pad>|<pad>|<pad>|<pad>|<pad>|<pad>|<pad>|<pad>|<pad>|<pad>|<pad>|<pad>|<pad>|<pad>|<pad>|<pad>|<pad>|<pad>|<pad>|<pad>|<pad>|<pad>|<pad>|<pad>|<pad>|<pad>|<pad>|<pad>|<pad>|<pad>|<pad>|<pad>|<pad>|<pad>|<pad>|<pad>|<pad>|<pad>|<pad>|<pad>|<pad>|<pad>|<pad>|<pad>|<pad>|<pad>|<pad>|<pad>|<pad>|<pad>|<pad>|<pad>|<pad>|<pad>|<pad>|<pad>|<pad>|<pad>|<pad>|<pad>|<pad>|<pad>|<pad>|<pad>|<pad>|<pad>|<pad>|<pad>|<pad>|<pad>|<pad>|<pad>|<pad>|<pad>|<pad>|<pad>|<pad>|<pad>|<pad>|<pad>|<pad>|<pad>|<pad>|<pad>|<pad>|<pad>|<pad>|<pad>|<pad>|<pad>|<pad>|<pad>|<pad>|<pad>|<pad>|<pad>|<pad>|<pad>|<pad>|<pad>|<pad>|<pad>|<pad>|<pad>|<pad>|<pad>|<pad>|<pad>|<pad>|<pad>|<pad>|<pad>|<pad>|<pad>|<pad>|<pad>|<pad>|<pad>|<pad>|<pad>|<pad>|<pad>|<pad>|<pad>|<pad>|<pad>|<pad>|<pad>|<pad>|<pad>|<pad>|<pad>|<pad>|<pad>|<pad>|<pad>|<pad>|<pad>|<pad>|<pad>|<pad>|<pad>|<pad>|<pad>|<pad>|<pad>|<pad>|<pad>|<pad>|<pad>|<pad>|<pad>|<pad>|<pad>|<pad>|<pad>|<pad>|<pad>|<pad>|<pad>|<pad>|<pad>|<pad>|<pad>|<pad>|<pad>|<pad>|<pad>|<pad>|<pad>|<pad>|<pad>|<pad>|<pad>|<pad>|<pad>|<pad>|<pad>|<pad>|<pad>|<pad>|<pad>|<pad>|<pad>|<pad>|<pad>|<pad>|<pad>|<pad>|<pad>|<pad>|<pad>|<pad>|<pad>|<pad>|<pad>|<pad>|<pad>|<pad>|<pad>|<pad>|<pad>|<pad>|<pad>|<pad>|<pad>|<pad>|<pad>|<pad>|<pad>|<pad>|<pad>|<pad>|<pad>|<pad>|<pad>|<pad>|<pad>|<pad>|<pad>|<pad>|<pad>|<pad>|<pad>\n"
     ]
    }
   ],
   "source": [
    "print(\"|\".join(pl_tokenizer.convert_ids_to_tokens(list(example[\"input_ids\"]))))\n"
   ]
  },
  {
   "cell_type": "markdown",
   "metadata": {
    "id": "-DL-RiReUT6e"
   },
   "source": [
    "Widzimy, że wyrazy podzielone są sensownie, a na końcu tekstu pojawiają się tokeny wypełnienia (PAD). Oznacza to, że zdanie zostało poprawnie skonwertowane.\n",
    "\n",
    "Możemy sprawdzić, że liczba tokenów w polu `inut_ids`, które są różne od tokenu wypełnienia (`[PAD] = 1`) oraz maska atencji, mają tę samą długość:"
   ]
  },
  {
   "cell_type": "code",
   "execution_count": 26,
   "metadata": {
    "id": "QeSZdD09T7TH",
    "outputId": "3c618ef0-89dc-4c21-fdec-ccb47fd80c25"
   },
   "outputs": [
    {
     "name": "stdout",
     "output_type": "stream",
     "text": [
      "169\n",
      "169\n"
     ]
    }
   ],
   "source": [
    "print(len([e for e in example[\"input_ids\"] if e != 1]))\n",
    "print(len([e for e in example[\"attention_mask\"] if e == 1]))"
   ]
  },
  {
   "cell_type": "markdown",
   "metadata": {
    "id": "KKm4X7jzUjW7"
   },
   "source": [
    "Mając pewność, że przygotowane przez nas dane są prawidłowe, możemy przystąpić do procesu uczenia modelu."
   ]
  },
  {
   "cell_type": "markdown",
   "metadata": {
    "id": "OmVeK74JVPKz"
   },
   "source": [
    "## Trening z użyciem transformersów\n",
    "\n",
    "Biblioteka Transformes pozwala na załadowanie tego samego modelu dostosowanego do różnych zadań. Wcześniej używaliśmy modelu HerBERT do predykcji brakującego wyrazu. Teraz załadujemy ten sam model, ale z inną \"głową\". Zostanie użyta warstwa, która pozwala na klasyfikację całego tekstu do jednej z n-klas. Wystarczy podmienić klasę, za pomocą której ładujemy model na `AutoModelForSequenceClassification`:"
   ]
  },
  {
   "cell_type": "code",
   "execution_count": 27,
   "metadata": {
    "id": "cVs4tK1WHUT8",
    "outputId": "6a8bfb27-1f4a-49b5-fc49-35bcea855404"
   },
   "outputs": [
    {
     "name": "stderr",
     "output_type": "stream",
     "text": [
      "Some weights of BertForSequenceClassification were not initialized from the model checkpoint at allegro/herbert-base-cased and are newly initialized: ['classifier.weight', 'classifier.bias']\n",
      "You should probably TRAIN this model on a down-stream task to be able to use it for predictions and inference.\n"
     ]
    },
    {
     "data": {
      "text/plain": "BertForSequenceClassification(\n  (bert): BertModel(\n    (embeddings): BertEmbeddings(\n      (word_embeddings): Embedding(50000, 768, padding_idx=1)\n      (position_embeddings): Embedding(514, 768)\n      (token_type_embeddings): Embedding(2, 768)\n      (LayerNorm): LayerNorm((768,), eps=1e-12, elementwise_affine=True)\n      (dropout): Dropout(p=0.1, inplace=False)\n    )\n    (encoder): BertEncoder(\n      (layer): ModuleList(\n        (0-11): 12 x BertLayer(\n          (attention): BertAttention(\n            (self): BertSelfAttention(\n              (query): Linear(in_features=768, out_features=768, bias=True)\n              (key): Linear(in_features=768, out_features=768, bias=True)\n              (value): Linear(in_features=768, out_features=768, bias=True)\n              (dropout): Dropout(p=0.1, inplace=False)\n            )\n            (output): BertSelfOutput(\n              (dense): Linear(in_features=768, out_features=768, bias=True)\n              (LayerNorm): LayerNorm((768,), eps=1e-12, elementwise_affine=True)\n              (dropout): Dropout(p=0.1, inplace=False)\n            )\n          )\n          (intermediate): BertIntermediate(\n            (dense): Linear(in_features=768, out_features=3072, bias=True)\n            (intermediate_act_fn): GELUActivation()\n          )\n          (output): BertOutput(\n            (dense): Linear(in_features=3072, out_features=768, bias=True)\n            (LayerNorm): LayerNorm((768,), eps=1e-12, elementwise_affine=True)\n            (dropout): Dropout(p=0.1, inplace=False)\n          )\n        )\n      )\n    )\n    (pooler): BertPooler(\n      (dense): Linear(in_features=768, out_features=768, bias=True)\n      (activation): Tanh()\n    )\n  )\n  (dropout): Dropout(p=0.1, inplace=False)\n  (classifier): Linear(in_features=768, out_features=2, bias=True)\n)"
     },
     "execution_count": 27,
     "metadata": {},
     "output_type": "execute_result"
    }
   ],
   "source": [
    "from transformers import AutoModelForSequenceClassification\n",
    "\n",
    "model = AutoModelForSequenceClassification.from_pretrained(\n",
    "    \"allegro/herbert-base-cased\", num_labels=2\n",
    ")\n",
    "\n",
    "model"
   ]
  },
  {
   "cell_type": "markdown",
   "metadata": {
    "id": "axdrBfSuE5YO"
   },
   "source": [
    "Komunikat diagnostyczny, który pojawia się przy ładowaniu modelu jest zgodny z naszymi oczekiwaniami. Model HerBERT był trenowany do predykcji tokenów, a nie klasyfikacji tekstu. Dlatego też ostatnia warstwa (`classifier.weight` oraz `classifier.bias`) jest inicjowana losowo. Wagi zostaną ustalone w trakcie procesu fine-tuningu modelu.\n",
    "\n",
    "Jeśli porównamy wersje modeli załadowane za pomocą różnych klas, to zauważymy, że różnią się one tylko na samym końcu. Jest to zgodne z założeniami procesu pre-treningu i fine-tuningu. W pierwszy etapie model uczy się zależności w języku, korzystając z zadania maskowanego modelowania języka (Masked Language Modeling). W drugim etapie model dostosowywane jest do konkretnego zadania, np. klasyfikacji binarnej tekstu.\n",
    "\n",
    "Korzystanie z biblioteki Transformers uwalnia nas od manualnego definiowania pętli uczącej, czy wywoływania algorytmu wstecznej propagacji błędu. Trening realizowany jest z wykorzystaniem klasy `Trainer`  (i jej specjlizacji). Argumenty treningu określane są natomiast w klasie `TrainingArguments`.  Klasy te są [bardzo dobrze udokumentowane](https://huggingface.co/docs/transformers/main_classes/trainer#trainer), więc nie będziemy omawiać wszystkich możliwych opcji.\n",
    "\n",
    "Najważniejsze opcje są następujące:\n",
    "* `output_dir` - katalog do którego zapisujemy wyniki,\n",
    "* `do_train` - wymagamy aby przeprowadzony był trening,\n",
    "* `do_eval` - wymagamy aby przeprowadzona była ewaluacja modelu,\n",
    "* `evaluation_strategy` - określenie momentu, w którym realizowana jest ewaluacja,\n",
    "* `evaluation_steps` - określenie co ile kroków (krok = przetworzenie 1 batcha) ma być realizowana ewaluacja,\n",
    "* `per_device_train/evaluation_batch_size` - rozmiar batcha w trakcie treningu/ewaluacji,\n",
    "* `learning_rate` - szybkość uczenia,\n",
    "* `num_train_epochs` - liczba epok uczenia,\n",
    "* `logging`... - parametry logowania postępów uczenia,\n",
    "* `save_strategy` - jak często należy zapisywać wytrenowany model,\n",
    "* `fp16/bf16` - użycie arytmetyki o zmniejszonej dokładności, przyspieszającej proces uczenia. **UWAGA**: użycie niekompatybilnej arytmetyki skutkuje niemożnością nauczenia modelu, co jednak nie daje żadnych innych błędów lub komunikatów ostrzegawczych."
   ]
  },
  {
   "cell_type": "code",
   "execution_count": 28,
   "metadata": {
    "id": "Iub6XtjPH7O6"
   },
   "outputs": [],
   "source": [
    "from transformers import TrainingArguments\n",
    "import numpy as np\n",
    "\n",
    "arguments = TrainingArguments(\n",
    "    output_dir=path + \"/output\",\n",
    "    do_train=True,\n",
    "    do_eval=True,\n",
    "    evaluation_strategy=\"steps\",\n",
    "    eval_steps=300,\n",
    "    per_device_train_batch_size=16,\n",
    "    per_device_eval_batch_size=16,\n",
    "    learning_rate=5e-05,\n",
    "    num_train_epochs=1,\n",
    "    logging_first_step=True,\n",
    "    logging_strategy=\"steps\",\n",
    "    logging_steps=50,\n",
    "    save_strategy=\"epoch\",\n",
    "    fp16=True,\n",
    ")"
   ]
  },
  {
   "cell_type": "markdown",
   "metadata": {
    "id": "vlShURnsVAXC"
   },
   "source": [
    "W trakcie treningu będziemy chcieli zobaczyć, czy model poprawnie radzi sobie z postawionym mu problemem. Najlepszym sposobem na podglądanie tego procesu jest obserwowanie wykresów. Model może raportować szereg metryk, ale najważniejsze dla nas będą następujące wartości:\n",
    "* wartość funkcji straty na danych treningowych - jeślie nie spada w trakcie uczenia, znaczy to, że nasz model nie jest poprawnie skonstruowany lub dane uczące są niepoprawne,\n",
    "* wartość jednej lub wielu metryk uzyskiwanych na zbiorze walidacyjnym - możemy śledzić wartość funkcji straty na zbiorze ewaluacyjnym, ale warto również wyświetlać metryki, które da się łatwiej zinterpretować; dla klasyfikacji zbalansowanego zbioru danych może to być dokładność (`accuracy`).\n",
    "\n",
    "Biblioteka Transformers pozwala w zasadzie na wykorzystanie dowolnej metryki, ale szczególnie dobrze współpracuje z metrykami zdefiniowanymi w bibliotece `evaluate` (również autorstwa Huggingface).\n",
    "\n",
    "Wykorzystanie metryki wymaga od nas zdefiniowania metody, która akceptuje batch danych, który zawieraja predykcje (wektory zwrócone na wyjściu modelu) oraz referencyjne wartości - wartości przechowywane w kluczu `label`. Przed obliczeniem metryki konieczne jest \"odcyfrowanie\" zwróconych wartości. W przypadku klasyfikacji oznacza to po prostu wybranie najbardziej prawodopodobnej klasy i porównanie jej z klasą referencyjną.\n",
    "\n",
    "Użycie konkretnej metryki realizowane jest za pomocą wywołania `metric.compute`, która akceptuje predykcje (`predictions`) oraz wartości referencyjne (`references`)."
   ]
  },
  {
   "cell_type": "code",
   "execution_count": 29,
   "metadata": {
    "id": "S861cZksGrWM",
    "outputId": "c2027b56-3d3e-44b2-8172-e5be306392e5"
   },
   "outputs": [],
   "source": [
    "import evaluate\n",
    "\n",
    "metric = evaluate.load(\"accuracy\")\n",
    "\n",
    "\n",
    "def compute_metrics(eval_pred):\n",
    "    logits, labels = eval_pred\n",
    "    predictions = np.argmax(logits, axis=1)\n",
    "    return metric.compute(predictions=predictions, references=labels)"
   ]
  },
  {
   "cell_type": "markdown",
   "metadata": {
    "id": "f1qk791L6_I7"
   },
   "source": [
    "Ostatnim krokiem w procesie treningu jest stworzenie obiektu klasy `Trainer`. Akceptuje ona m.in. model, który wykorzystywany jest w treningu, przygotowane argumenty treningu, zbiory do treningu, ewaluacji, czy testowania oraz wcześniej określoną metodę do obliczania metryki na danych ewaluacyjnych.\n",
    "\n",
    "W przetwarzaniu jezyka naturalnego dominującym podejściem jest obecnie rozdzielenie procesu treningu na dwa etapy: pre-treining oraz fine-tuning. W pierwszym etapie model trenowany jest w reżimie self-supervised learning (SSL). Wybierane jest zadanie związane najczęściej z modelowaniem języka - może to być kauzalne lub maskowane modelowanie języka.\n",
    "\n",
    "W *kauzalnym modelowaniu języka* model językowy, na podstawie poprzedzających wyrazów określa prawdopodobieństwo wystąpienia kolejnego wyrazu. W *maskowanym modelowaniu języka* model językowy odgaduje w tekście część wyrazów, która została z niego usunięta.\n",
    "\n",
    "W obu przypadkach dane, na których trenowany jest model nie wymagają ręcznego oznakowania (tagowaina). Wystarczy jedynie posiadać duży korpus danych językowych, aby wytrenować model, który dobrze radzi sobie z jednym z tych zadań. Model tego rodzaju był pokazany na początku laboratorium.\n",
    "\n",
    "W drugim etapie - fine-tuningu (dostrajaniu modelu) - następuje modyfikacja parametrów modelu, w celu rozwiązania konkretnego zadania. W naszym przypadku pierwszym zadaniem tego rodzaju jest klasyfikacja. Dostroimy zatem model `herbert-base-cased` do zadania klasyfikacji par: pytanie - kontekst.\n",
    "\n",
    "Wykorzystamy wcześniej utworzone zbiory danych i dodatkowo zmienimy kolejność danych, tak aby uniknąć potencjalnego problemu z korelacją danych w ramach batcha. Wykorzystujemy do tego wywołanie `shuffle`."
   ]
  },
  {
   "cell_type": "code",
   "execution_count": 30,
   "metadata": {
    "id": "zSM6Qmv_WUgz"
   },
   "outputs": [],
   "source": [
    "from transformers import Trainer\n",
    "\n",
    "trainer = Trainer(\n",
    "    model=model,\n",
    "    args=arguments,\n",
    "    train_dataset=tokenized_datasets[\"train\"].shuffle(seed=42),\n",
    "    eval_dataset=tokenized_datasets[\"dev\"].shuffle(seed=42),\n",
    "    compute_metrics=compute_metrics,\n",
    ")"
   ]
  },
  {
   "cell_type": "markdown",
   "metadata": {
    "id": "kx8WSdqx9Hv5"
   },
   "source": [
    "Zanim uruchomimy trening, załadujemy jeszcze moduł TensorBoard. Nie jest to krok niezbędy. TensorBoard to biblioteka, która pozwala na wyświetlanie w trakcie procesu trening wartości, które wskazują nam, czy model trenuje się poprawnie. W naszym przypadku będzie to `loss` na danych treningowych, `loss` na danych ewaluacyjnych oraz wartość metryki `accuracy`, którą zdefiniowaliśmy wcześniej. Wywołanie tej komórki na początku nie da żadnego efektu, ale można ją odświeżać, za pomocą ikony w menu TensorBoard (ewentualnie włączyć automatyczne odświeżanie). Wtedy w miarę upływu treningu będziemy mieli podgląd, na przebieg procesu oraz osiągane wartości interesujących nas parametrów.\n",
    "\n",
    "Warto zauważyć, że istenieje szereg innych narzędzi do monitorowania eksperymentów z treningiem sieci. Wśród nich dużą popularnością cieszą się [WanDB](https://wandb.ai/site) oraz [Neptune.AI](https://neptune.ai/). Ich zaletą jest m.in. to, że możemy łatwo archiwizować przeprowadzone eksperymenty, porównywać je ze sobą, analizować wpływ hiperparametrów na uzyskane wyniki, itp."
   ]
  },
  {
   "cell_type": "markdown",
   "source": [
    "%load_ext tensorboard\n",
    "%tensorboard --logdir gdrive/MyDrive/poquad/output/runs"
   ],
   "metadata": {
    "collapsed": false
   }
  },
  {
   "cell_type": "markdown",
   "metadata": {
    "id": "W5d5E2OO-P5C"
   },
   "source": [
    "Uruchomienie procesu treningu jest już bardzo proste, po tym jak przygotowaliśmy wszystkie niezbędne szczegóły. Wystarczy wywołać metodę `trainer.train()`. Warto mieć na uwadze, że proces ten będzie jednak długotrwały - jedna epoka treningu na przygotowanych danych będzie trwała ponad 1 godzinę. Na szczęście, dzięki ustawieniu ewaluacji co 300 kroków, będziemy mogli obserwować jak model radzie sobie z postawionym przed nim problemem na danych ewaluacyjnych."
   ]
  },
  {
   "cell_type": "code",
   "execution_count": 31,
   "metadata": {
    "id": "sULHvH_bMBmW",
    "outputId": "02de07d4-d959-4f97-ce3d-f54a4279c078"
   },
   "outputs": [
    {
     "data": {
      "text/plain": "<IPython.core.display.HTML object>",
      "text/html": "\n    <div>\n      \n      <progress value='2' max='4726' style='width:300px; height:20px; vertical-align: middle;'></progress>\n      [   2/4726 : < :, Epoch 0.00/1]\n    </div>\n    <table border=\"1\" class=\"dataframe\">\n  <thead>\n <tr style=\"text-align: left;\">\n      <th>Step</th>\n      <th>Training Loss</th>\n      <th>Validation Loss</th>\n    </tr>\n  </thead>\n  <tbody>\n  </tbody>\n</table><p>"
     },
     "metadata": {},
     "output_type": "display_data"
    },
    {
     "data": {
      "text/plain": "TrainOutput(global_step=4726, training_loss=0.2841943945866543, metrics={'train_runtime': 11863.858, 'train_samples_per_second': 6.373, 'train_steps_per_second': 0.398, 'total_flos': 1.98925113404928e+16, 'train_loss': 0.2841943945866543, 'epoch': 1.0})"
     },
     "execution_count": 31,
     "metadata": {},
     "output_type": "execute_result"
    }
   ],
   "source": [
    "trainer.train()"
   ]
  },
  {
   "cell_type": "code",
   "execution_count": null,
   "outputs": [],
   "source": [
    "trainer.save_model(\"./poquad/herbert-base-cased-question-classifier\")"
   ],
   "metadata": {
    "collapsed": false,
    "pycharm": {
     "is_executing": true
    }
   }
  },
  {
   "cell_type": "markdown",
   "metadata": {
    "id": "3kmxKtZp_VP6"
   },
   "source": [
    "## Zadanie 3 (1 punkt)\n",
    "\n",
    "Wybierz losową stronę z Wikipedii i skopiuj fragment tekstu do Notebook. Zadaj 3 pytania, na które można udzielić odpowiedź na podstawie tego fragmentu tekstu oraz 3 pytania, na które nie można udzielić odpowiedzi. Oceń jakość predykcji udzielanych przez model."
   ]
  },
  {
   "cell_type": "code",
   "execution_count": 39,
   "metadata": {
    "id": "Ou-a-tVoU9wG",
    "outputId": "32f70a73-848b-4e9c-80c1-d9db4a99dd07"
   },
   "outputs": [
    {
     "name": "stdout",
     "output_type": "stream",
     "text": [
      "[{'label': 'LABEL_1', 'score': 0.8677098155021667}]\n",
      "[{'label': 'LABEL_1', 'score': 0.7718865275382996}]\n",
      "[{'label': 'LABEL_1', 'score': 0.9409527778625488}]\n"
     ]
    }
   ],
   "source": [
    "# your_code\n",
    "from transformers import pipeline\n",
    "\n",
    "classifier = pipeline(\n",
    "        task=\"text-classification\",\n",
    "        model=model,\n",
    "        tokenizer=pl_tokenizer,\n",
    "        device=0,\n",
    "    )\n",
    "pytanie1 = \"Kto kierował zespołem architektów budową parku?\"\n",
    "pytanie2 = \"W którym roku park powstał?\"\n",
    "pytanie3 = \"Jak duży był park?\"\n",
    "\n",
    "kontekst = \"Jednym z głównych inicjatorów powstania Parku był gen. Jerzy Ziętek. Decyzja o budowie tej największej inwestycji ekologicznej na Górnym Śląsku zapadła na posiedzeniu Wojewódzkiej Rady Narodowej w Katowicach. Obszar inwestycji obejmował w 75% zdewastowane tereny poprzemysłowe: hałdy, odpady pogórnicze, biedaszyby, zapadliska, bagna, wysypiska, a także nieużytki rolnicze o powierzchni około 640 ha na terytorium Chorzowa i Katowic. Z powodu małej przydatności miejscowych kwaśnych gleb bielicowych na teren obecnego Parku przywieziono 3,5 miliona m³ ziemi i dowieziono 0,5 miliona m³ gleb próchnicznych i torfu. \\\n",
    "Budowa była realizowana w dużej części poprzez czyny społeczne. Zbierano również datki pieniężne i prowadzono sprzedaż kartoników filatelistycznych z dopłatą na budowę WPKiW. Podstawowym założeniem, jakim kierował się przy projektowaniu Parku zespół architektów kierowany przez prof. Władysława Niemirskiego, było podzielenie go na dwie strefy przy wykorzystaniu istniejącego układu topograficznego. Centralną część parku zaprojektowano więc jako teren o charakterze leśnym, poprzecinany siecią dróg, alejek i traktów pieszych mających sprzyjać wyciszeniu, biernemu wypoczynkowi oraz aktywnej rekreacji ruchowej. Pozostała część parku, ok. 13 ha, zaprojektowana została jako tereny o charakterze kulturalno-rekreacyjnym oraz tereny sprzyjające czynnemu wypoczynkowi, gdzie miały zostać wybudowane dodatkowe atrakcje oraz być organizowane festyny.\"\n",
    "\n",
    "input_text = f\"Pytanie: {pytanie1} Kontekst: {kontekst}\"\n",
    "predictions = classifier(input_text)\n",
    "print(predictions)\n",
    "\n",
    "input_text = f\"Pytanie: {pytanie2} Kontekst: {kontekst}\"\n",
    "predictions = classifier(input_text)\n",
    "print(predictions)\n",
    "\n",
    "input_text = f\"Pytanie: {pytanie3} Kontekst: {kontekst}\"\n",
    "predictions = classifier(input_text)\n",
    "print(predictions)"
   ]
  },
  {
   "cell_type": "markdown",
   "metadata": {
    "id": "4KcwGtp1xlDn"
   },
   "source": [
    "Na pytania na które można udzielić odpowiedzi model odpowiada poprawnie, natomiast na pytanie na które nie można udzielić odpowiedzi model jest dosyć pewny, że da się odpowiedzieć."
   ]
  },
  {
   "cell_type": "markdown",
   "metadata": {
    "id": "oJXK8qWCtoY-"
   },
   "source": [
    "# Odpowiadanie na pytania\n",
    "\n",
    "Drugim problemem, którym zajmie się w tym laboratorium jest odpowiadanie na pytania. Zmierzymy się z wariantem tego problemu, w którym model sam formułuje odpowiedź, na podstawie pytania i kontekstu, w których znajduje się odpowiedź na pytanie (w przeciwieństwie do wariantu, w którym model wskazuje lokalizację odpowiedzi na pytanie)."
   ]
  },
  {
   "cell_type": "markdown",
   "metadata": {
    "id": "SL3VibwXYdu2"
   },
   "source": [
    "\n",
    "## Zadanie 4 (1 punkt)\n",
    "\n",
    "Rozpocznij od przygotowania danych. Wybierzem tylko te pytania, które posiadają odpowiedź (`is_impossible=False`). Uwzględnij zarówno pytania *pewne* (pole `answers`) jak i *prawdopodobne* (pole `plausible_answers`). Wynikowy zbiór danych powinien mieć identyczną strukturę, jak w przypadku zadania z klasyfikacją, ale etykiety zamiast wartości 0 i 1, powinny zawierać odpowiedź na pytanie, a sama nazwa etykiety powinna być zmieniona z `label` na `labels`, w celu odzwierciedlenia faktu, że teraz zwracane jest wiele etykiet.\n",
    "\n",
    "Wyświetl liczbę danych (par: pytanie - odpowiedź) w zbiorze treningowym i zbiorze ewaluacyjnym.\n",
    "\n",
    "Opakuj również zbiory w klasy z biblioteki `datasets` i zapisz je na dysku."
   ]
  },
  {
   "cell_type": "code",
   "execution_count": 20,
   "outputs": [
    {
     "name": "stdout",
     "output_type": "stream",
     "text": [
      "Total count in train/dev: 34028/5563\n"
     ]
    },
    {
     "data": {
      "text/plain": "Saving the dataset (0/1 shards):   0%|          | 0/34028 [00:00<?, ? examples/s]",
      "application/vnd.jupyter.widget-view+json": {
       "version_major": 2,
       "version_minor": 0,
       "model_id": "35aaac9e34f543bdad9546212e6b37fc"
      }
     },
     "metadata": {},
     "output_type": "display_data"
    },
    {
     "data": {
      "text/plain": "Saving the dataset (0/1 shards):   0%|          | 0/5563 [00:00<?, ? examples/s]",
      "application/vnd.jupyter.widget-view+json": {
       "version_major": 2,
       "version_minor": 0,
       "model_id": "a48fffd9cf80477eb04d0c5e4bbbedcb"
      }
     },
     "metadata": {},
     "output_type": "display_data"
    }
   ],
   "source": [
    "import random\n",
    "from datasets import Dataset, DatasetDict\n",
    "\n",
    "tuples = [[], []]\n",
    "\n",
    "for idx, dataset in enumerate([train_data, dev_data]):\n",
    "    for data in dataset:\n",
    "        context = data[\"paragraphs\"][0][\"context\"]\n",
    "        for question_answers in data[\"paragraphs\"][0][\"qas\"]:\n",
    "            question = question_answers[\"question\"]\n",
    "            if not question_answers[\"is_impossible\"]:\n",
    "                tuples[idx].append(\n",
    "                    {\n",
    "                        \"text\": f\"Pytanie: {question} Kontekst: {context}\",\n",
    "                        \"labels\": question_answers[\"answers\"][0]['text'],\n",
    "                    }\n",
    "                )\n",
    "\n",
    "train_tuples, dev_tuples = tuples\n",
    "print(f\"Total count in train/dev: {len(train_tuples)}/{len(dev_tuples)}\")\n",
    "\n",
    "datasets = DatasetDict(\n",
    "    {\n",
    "        \"train\": Dataset.from_list(train_tuples),\n",
    "        \"dev\": Dataset.from_list(dev_tuples),\n",
    "    }\n",
    ")\n",
    "\n",
    "datasets.save_to_disk(\"./datasets-question-answering\")\n"
   ],
   "metadata": {
    "collapsed": false
   }
  },
  {
   "cell_type": "code",
   "execution_count": 21,
   "outputs": [],
   "source": [
    "datasets = DatasetDict.load_from_disk(\"./datasets-question-answering\")"
   ],
   "metadata": {
    "collapsed": false
   }
  },
  {
   "cell_type": "markdown",
   "metadata": {
    "id": "IsZe71D5FMhw"
   },
   "source": [
    "Zanim przejdziemy do dalszej części, sprawdźmy, czy dane zostały poprawnie utworzone. Zweryfikujmy przede wszystkim, czy klucze `text` oraz `label` zawieraja odpowiednie wartości:"
   ]
  },
  {
   "cell_type": "code",
   "execution_count": 22,
   "metadata": {
    "id": "ZN8Q0h7PF_aw",
    "outputId": "42d1c7f9-5f9e-49f9-a96c-bf9ee738a660"
   },
   "outputs": [
    {
     "name": "stdout",
     "output_type": "stream",
     "text": [
      "Pytanie: Co było powodem powrócenia konceptu porozumieniu monachijskiego? Kontekst: Projekty konfederacji zaczęły się załamywać 5 sierpnia 1942. Ponownie wróciła kwestia monachijska, co uaktywniło się wymianą listów Ripka – Stroński. Natomiast 17 sierpnia 1942 doszło do spotkania E. Beneša i J. Masaryka z jednej a Wł. Sikorskiego i E. Raczyńskiego z drugiej strony. Polscy dyplomaci zaproponowali podpisanie układu konfederacyjnego. W następnym miesiącu, tj. 24 września, strona polska przesłała na ręce J. Masaryka projekt deklaracji o przyszłej konfederacji obu państw. Strona czechosłowacka projekt przyjęła, lecz już w listopadzie 1942 E. Beneš podważył ideę konfederacji. W zamian zaproponowano zawarcie układu sojuszniczego z Polską na 20 lat (formalnie nastąpiło to 20 listopada 1942).\n",
      "wymianą listów Ripka – Stroński\n",
      "Pytanie: Czym są pisma rabiniczne? Kontekst: Pisma rabiniczne – w tym Miszna – stanowią kompilację poglądów różnych rabinów na określony temat. Zgodnie z wierzeniami judaizmu Mojżesz otrzymał od Boga całą Torę, ale w dwóch częściach: jedną część w formie pisanej, a drugą część w formie ustnej. Miszna – jako Tora ustna – była traktowana nie tylko jako uzupełnienie Tory spisanej, ale również jako jej interpretacja i wyjaśnienie w konkretnych sytuacjach życiowych. Tym samym Miszna stanowiąca kodeks Prawa religijnego zaczęła równocześnie służyć za jego ustnie przekazywany podręcznik.\n",
      "kompilację poglądów różnych rabinów na określony temat\n"
     ]
    }
   ],
   "source": [
    "print(datasets[\"train\"][0][\"text\"])\n",
    "print(datasets[\"train\"][0][\"labels\"])\n",
    "print(datasets[\"dev\"][0][\"text\"])\n",
    "print(datasets[\"dev\"][0][\"labels\"])"
   ]
  },
  {
   "cell_type": "markdown",
   "metadata": {
    "id": "zLghVU7EEaHb"
   },
   "source": [
    "Tokenizacja danych dla problemu odpowiadania na pytania jest nieco bardziej problematyczna. W pierwszej kolejności trzeba wziąć pod uwagę, że dane wynikowe (etykiety), też muszą podlegać tokenizacji. Realizowane jest to poprzez wywołanie tokenizera, z opcją `text_target` ustawioną na łańcuch, który ma być stokenizowany.\n",
    "\n",
    "Ponadto wcześniej nie przejmowaliśmy się za bardzo tym, czy wykorzystywany model obsługuje teksty o założonej długości. Teraz jednak ma to duże znaczenie. Jeśli użyjemy modelu, który nie jest w stanie wygenerować odpowiedzi o oczekiwanej długości, to nie możemy oczekiwać, że model ten będzie dawał dobre rezultaty dla danych w zbiorze treningowym i testowym.\n",
    "\n",
    "W pierwszej kolejności dokonamy więc tokenizacji bez ograniczeń co do długości tekstu. Ponadto, stokenizowane odpowiedzi przypiszemy do klucza `label`. Do tokenizacji użyjemy tokenizera stowarzyszonego z modelem  `allegro/plt5-base`.\n"
   ]
  },
  {
   "cell_type": "code",
   "execution_count": 24,
   "metadata": {
    "ExecuteTime": {
     "end_time": "2022-12-22T10:30:09.564553Z",
     "start_time": "2022-12-22T10:30:09.155839Z"
    },
    "id": "WljAN9tMg5uU",
    "outputId": "8d6a1edf-462d-4cfc-8a0b-b8b28abc2762"
   },
   "outputs": [
    {
     "data": {
      "text/plain": "Map:   0%|          | 0/34028 [00:00<?, ? examples/s]",
      "application/vnd.jupyter.widget-view+json": {
       "version_major": 2,
       "version_minor": 0,
       "model_id": "d3600c6a87404fa38523e86cc6855702"
      }
     },
     "metadata": {},
     "output_type": "display_data"
    },
    {
     "data": {
      "text/plain": "Map:   0%|          | 0/5563 [00:00<?, ? examples/s]",
      "application/vnd.jupyter.widget-view+json": {
       "version_major": 2,
       "version_minor": 0,
       "model_id": "43f88e3b3a0e480cbe39a4d5f3b2c787"
      }
     },
     "metadata": {},
     "output_type": "display_data"
    }
   ],
   "source": [
    "from transformers import AutoTokenizer\n",
    "\n",
    "plt5_tokenizer = AutoTokenizer.from_pretrained(\"allegro/plt5-base\")\n",
    "\n",
    "\n",
    "def preprocess_function(examples):\n",
    "    model_inputs = plt5_tokenizer(examples[\"text\"])\n",
    "    labels = plt5_tokenizer(text_target=examples[\"labels\"])\n",
    "    model_inputs[\"labels\"] = labels[\"input_ids\"]\n",
    "    return model_inputs\n",
    "\n",
    "\n",
    "tokenized_datasets = datasets.map(preprocess_function, batched=True)"
   ]
  },
  {
   "cell_type": "markdown",
   "metadata": {
    "id": "OlSHE98SIFjv"
   },
   "source": [
    "Sprawdźmy jak dane wyglądają po tokenizacji:"
   ]
  },
  {
   "cell_type": "code",
   "execution_count": 25,
   "metadata": {
    "id": "z3IM-Cd1IEba",
    "outputId": "036c7e0d-412d-4d43-e579-86d175b598fd"
   },
   "outputs": [
    {
     "name": "stdout",
     "output_type": "stream",
     "text": [
      "dict_keys(['text', 'labels', 'input_ids', 'attention_mask'])\n",
      "[21584, 291, 639, 402, 11586, 292, 23822, 267, 1269, 8741, 280, 24310, 42404, 305, 373, 1525, 15643, 291, 2958, 273, 19605, 6869, 271, 298, 2256, 7465, 394, 540, 2142, 259, 17542, 13760, 10331, 9511, 322, 31220, 261, 358, 348, 267, 7243, 430, 470, 271, 39908, 20622, 2178, 18204, 308, 8439, 2451, 259, 1974, 455, 540, 2142, 1283, 272, 994, 525, 259, 15697, 1978, 267, 264, 644, 259, 14988, 19434, 265, 1109, 287, 274, 357, 259, 21308, 264, 525, 259, 35197, 305, 265, 793, 823, 259, 25318, 2750, 4724, 31015, 21207, 4162, 40335, 18058, 259, 274, 4862, 7030, 261, 5269, 259, 658, 497, 261, 6971, 1890, 35042, 267, 266, 3260, 644, 259, 14988, 19434, 1187, 20919, 284, 27584, 19605, 1230, 2555, 259, 12531, 7278, 3845, 8726, 10486, 1187, 10676, 261, 996, 347, 260, 2548, 2142, 525, 259, 15697, 1978, 309, 27648, 31887, 19605, 259, 274, 4931, 36525, 37011, 4162, 10036, 7141, 265, 6340, 266, 465, 346, 269, 3648, 4383, 6704, 294, 465, 567, 2142, 454, 1]\n",
      "[39908, 20622, 2178, 18204, 308, 8439, 2451, 1]\n",
      "165\n",
      "8\n",
      "▁Pytanie|:|▁Co|▁było|▁powodem|▁po|wróceni|a|▁kon|cept|u|▁porozumieniu|▁monachijski|ego|?|▁Kon|tekst|:|▁Projekt|y|▁konfederacji|▁zaczęły|▁się|▁za|łam|ywać|▁5|▁sierpnia|▁1942|.|▁Ponownie|▁wróciła|▁kwestia|▁mon|ach|ijska|,|▁co|▁u|a|ktyw|ni|ło|▁się|▁wymianą|▁listów|▁Ri|pka|▁–|▁Stro|ński|.|▁Natomiast|▁17|▁sierpnia|▁1942|▁doszło|▁do|▁spotkania|▁E|.|▁Bene|š|a|▁i|▁J|.|▁Masa|ryka|▁z|▁jednej|▁a|▁W|ł|.|▁Sikorskiego|▁i|▁E|.|▁Raczyński|ego|▁z|▁drugiej|▁strony|.|▁Polscy|▁dyplom|aci|▁zaproponowali|▁podpisanie|▁układu|▁konfederac|yjnego|.|▁W|▁następnym|▁miesiącu|,|▁tj|.|▁24|▁września|,|▁strona|▁polska|▁przesłał|a|▁na|▁ręce|▁J|.|▁Masa|ryka|▁projekt|▁deklaracji|▁o|▁przyszłej|▁konfederacji|▁obu|▁państw|.|▁Strona|▁cze|cho|słow|acka|▁projekt|▁przyjęła|,|▁lecz|▁już|▁w|▁listopadzie|▁1942|▁E|.|▁Bene|š|▁pod|ważył|▁ideę|▁konfederacji|.|▁W|▁zamian|▁zaproponowano|▁zawarcie|▁układu|▁sojusz|niczego|▁z|▁Polską|▁na|▁20|▁lat|▁(|form|alnie|▁nastąpiło|▁to|▁20|▁listopada|▁1942|).|</s>\n",
      "▁wymianą|▁listów|▁Ri|pka|▁–|▁Stro|ński|</s>\n"
     ]
    }
   ],
   "source": [
    "print(tokenized_datasets[\"train\"][0].keys())\n",
    "print(tokenized_datasets[\"train\"][0][\"input_ids\"])\n",
    "print(tokenized_datasets[\"train\"][0][\"labels\"])\n",
    "print(len(tokenized_datasets[\"train\"][0][\"input_ids\"]))\n",
    "print(len(tokenized_datasets[\"train\"][0][\"labels\"]))\n",
    "example = tokenized_datasets[\"train\"][0]\n",
    "\n",
    "print(\"|\".join(plt5_tokenizer.convert_ids_to_tokens(list(example[\"input_ids\"]))))\n",
    "print(\"|\".join(plt5_tokenizer.convert_ids_to_tokens(list(example[\"labels\"]))))"
   ]
  },
  {
   "cell_type": "markdown",
   "metadata": {
    "id": "seBM6iumIY8x"
   },
   "source": [
    "Wykorzystywany przez nas model obsługuje teksty od długości do 512 sub-tokenów (w zasadzie ograniczenie to, w przeciwieństwie do modelu BERT nie wynika z samego modelu, więc teoretycznie moglibyśmy wykorzystywać dłuższe sekwencje, co jednak prowadzi do nadmiernej konsumpcji pamięci). Konieczne jest zatem sprawdzenie, czy w naszych danych nie ma tekstów o większej długości.\n",
    "\n",
    "## Zadanie 5 (0.5 punkt)\n",
    "\n",
    "Stwórz histogramy prezentujące rozkład długości (jako liczby tokenów) tekstów wejściowych (`input_ids`) oraz odpowiedzi (`labels`) dla zbioru treningowego. Zinterpretuj otrzymane wyniki."
   ]
  },
  {
   "cell_type": "code",
   "execution_count": 28,
   "metadata": {
    "id": "wSg4cZ2Xw9fJ",
    "outputId": "13a12abb-0d81-4032-fb83-4bedc1121f9f"
   },
   "outputs": [
    {
     "data": {
      "text/plain": "<BarContainer object of 1738 artists>"
     },
     "execution_count": 28,
     "metadata": {},
     "output_type": "execute_result"
    },
    {
     "data": {
      "text/plain": "<Figure size 640x480 with 1 Axes>",
      "image/png": "[encoded data removed]"
     },
     "metadata": {},
     "output_type": "display_data"
    }
   ],
   "source": [
    "import matplotlib.pyplot as plt\n",
    "import numpy as np\n",
    "\n",
    "max_len = max([len(example[\"input_ids\"]) for example in tokenized_datasets[\"train\"]])\n",
    "\n",
    "lengths = [0 for _ in range(max_len + 1)]\n",
    "for example in tokenized_datasets[\"train\"]:\n",
    "    lengths[len(example[\"input_ids\"])] += 1\n",
    "for example in tokenized_datasets[\"train\"]:\n",
    "    lengths[len(example[\"labels\"])] += 1\n",
    "\n",
    "plt.bar(range(max_len + 1), lengths)\n",
    "\n"
   ]
  },
  {
   "cell_type": "markdown",
   "metadata": {
    "id": "dyaT0ebG0InY"
   },
   "source": [
    "Pierwszy spike w chistogramie wynika ze zbiory labels, a dalszy rozkład wynika z input_ids. Widać, że większość tekstów ma długość poniżej 256 tokenów, a większość odpowiedzi jest krótsza niż 32 tokeny. Warto zatem ograniczyć długość tekstów wejściowych do 256 tokenów, a odpowiedzi do 32 tokenów zgodnie z następnym przykładem."
   ]
  },
  {
   "cell_type": "markdown",
   "metadata": {
    "id": "oTTrGUuvQQ63"
   },
   "source": [
    "Przyjmiemy założenie, że teksty wejściowe będą miały maksymalnie 256 tokenów, a większość odpowiedzi jest znacznie krótsza niż maksymalna długość, ograniczmy je do długości 32.\n",
    "\n",
    "W poniższym kodzie uwzględniamy również fakt, że przy obliczaniu funkcji straty nie interesuje nas wliczanie tokenów wypełnienia (PAD), gdyż ich udział byłby bardzo duży, a nie wpływają one w żaden pozytywny sposób na ocenę poprawności działania modelu.\n",
    "\n",
    "Konteksty (pytanie + kontekst odpowiedzi) ograniczamy do 256 tokenów, ze wzgędu na ograniczenia pamięciowe (zajętość pamięci dla modelu jest proporcjonalna do kwadratu długości tekstu). Dla kontekstów nie używamy parametru `padding`, ponieważ w trakcie treningu użyjemy modułu, który automatycznie doda padding, tak żeby wszystkie sekewncje miały długość najdłuższego tekstu w ramach paczki (moduł ten to `DataCollatorWithPadding`)."
   ]
  },
  {
   "cell_type": "code",
   "execution_count": 29,
   "metadata": {
    "id": "EpW4MNa1tGUV",
    "outputId": "8c0781d5-4a07-4552-be79-a0f16bf063d9"
   },
   "outputs": [
    {
     "data": {
      "text/plain": "Map:   0%|          | 0/34028 [00:00<?, ? examples/s]",
      "application/vnd.jupyter.widget-view+json": {
       "version_major": 2,
       "version_minor": 0,
       "model_id": "e5670b8dedef4ed39ef4c8e6eee11eb3"
      }
     },
     "metadata": {},
     "output_type": "display_data"
    },
    {
     "data": {
      "text/plain": "Map:   0%|          | 0/5563 [00:00<?, ? examples/s]",
      "application/vnd.jupyter.widget-view+json": {
       "version_major": 2,
       "version_minor": 0,
       "model_id": "274782ef2d4e49ffb7b06d0541aac095"
      }
     },
     "metadata": {},
     "output_type": "display_data"
    }
   ],
   "source": [
    "def preprocess_function(examples):\n",
    "    result = plt5_tokenizer(examples[\"text\"], truncation=True, max_length=256)\n",
    "    targets = plt5_tokenizer(\n",
    "        examples[\"labels\"], truncation=True, max_length=32, padding=True\n",
    "    )\n",
    "    input_ids = [\n",
    "        [(l if l != plt5_tokenizer.pad_token_id else -100) for l in e]\n",
    "        for e in targets[\"input_ids\"]\n",
    "    ]\n",
    "    result[\"labels\"] = input_ids\n",
    "    return result\n",
    "\n",
    "\n",
    "tokenized_datasets = datasets.map(preprocess_function, batched=True)"
   ]
  },
  {
   "cell_type": "markdown",
   "metadata": {
    "id": "uCLIl_cIyRxH"
   },
   "source": [
    "Następnie weryfkiujemy, czy przetworzone teksty mają poprawną postać."
   ]
  },
  {
   "cell_type": "code",
   "execution_count": 30,
   "metadata": {
    "id": "bQ9i4ApASNIL",
    "outputId": "1ea928e9-6ff7-4441-87cd-1417809aba95"
   },
   "outputs": [
    {
     "name": "stdout",
     "output_type": "stream",
     "text": [
      "dict_keys(['text', 'labels', 'input_ids', 'attention_mask'])\n",
      "[21584, 291, 639, 402, 11586, 292, 23822, 267, 1269, 8741, 280, 24310, 42404, 305, 373, 1525, 15643, 291, 2958, 273, 19605, 6869, 271, 298, 2256, 7465, 394, 540, 2142, 259, 17542, 13760, 10331, 9511, 322, 31220, 261, 358, 348, 267, 7243, 430, 470, 271, 39908, 20622, 2178, 18204, 308, 8439, 2451, 259, 1974, 455, 540, 2142, 1283, 272, 994, 525, 259, 15697, 1978, 267, 264, 644, 259, 14988, 19434, 265, 1109, 287, 274, 357, 259, 21308, 264, 525, 259, 35197, 305, 265, 793, 823, 259, 25318, 2750, 4724, 31015, 21207, 4162, 40335, 18058, 259, 274, 4862, 7030, 261, 5269, 259, 658, 497, 261, 6971, 1890, 35042, 267, 266, 3260, 644, 259, 14988, 19434, 1187, 20919, 284, 27584, 19605, 1230, 2555, 259, 12531, 7278, 3845, 8726, 10486, 1187, 10676, 261, 996, 347, 260, 2548, 2142, 525, 259, 15697, 1978, 309, 27648, 31887, 19605, 259, 274, 4931, 36525, 37011, 4162, 10036, 7141, 265, 6340, 266, 465, 346, 269, 3648, 4383, 6704, 294, 465, 567, 2142, 454, 1]\n",
      "[39908, 20622, 2178, 18204, 308, 8439, 2451, 1, -100, -100, -100, -100, -100, -100, -100, -100, -100, -100, -100, -100, -100, -100, -100, -100, -100, -100, -100, -100, -100, -100, -100, -100]\n",
      "165\n",
      "32\n"
     ]
    }
   ],
   "source": [
    "print(tokenized_datasets[\"train\"][0].keys())\n",
    "print(tokenized_datasets[\"train\"][0][\"input_ids\"])\n",
    "print(tokenized_datasets[\"train\"][0][\"labels\"])\n",
    "print(len(tokenized_datasets[\"train\"][0][\"input_ids\"]))\n",
    "print(len(tokenized_datasets[\"train\"][0][\"labels\"]))"
   ]
  },
  {
   "cell_type": "markdown",
   "metadata": {
    "id": "GEqhSrxLAwCH"
   },
   "source": [
    "Dla problemu odpowiadania na pytania potrzebować będziemy innego pre-trenowanego modelu oraz innego przygotowania danych. Jako model bazowy wykrzystamy polski wariant modelu T5 - [plT5](https://huggingface.co/allegro/plt5-base). Model ten trenowany był w zadaniu *span corruption*, czyli zadani polegającym na usunięciu fragmentu tekstu. Model na wejściu otrzymywał tekst z pominiętymi pewnymi fragmentami, a na wyjściu miał odtwarzać te fragmenty. Oryginalny model T5 dodatkowo pretrenowany był na kilku konkretnych zadaniach z zakresu NLP (w tym odpowiadaniu na pytania). W wariancie plT5 nie przeprowadzono jednak takiego dodatkowego procesu.\n",
    "\n",
    "Poniżej ładujemy model dla zadania, w którym model generuje tekst na podstawie innego tekstu (tzn. jest to zadanie zamiany tekstu na tekst, po angielsku zwanego też *Sequence-to-Sequence*)."
   ]
  },
  {
   "cell_type": "code",
   "execution_count": 31,
   "metadata": {
    "id": "ZvEOsWlAiWOu",
    "outputId": "812ff367-a00d-490e-d522-7629a9e4d47d"
   },
   "outputs": [
    {
     "data": {
      "text/plain": "pytorch_model.bin:   0%|          | 0.00/1.10G [00:00<?, ?B/s]",
      "application/vnd.jupyter.widget-view+json": {
       "version_major": 2,
       "version_minor": 0,
       "model_id": "d358874858894e8f9d70e5336fa485e1"
      }
     },
     "metadata": {},
     "output_type": "display_data"
    }
   ],
   "source": [
    "from transformers import AutoModelForSeq2SeqLM\n",
    "\n",
    "model = AutoModelForSeq2SeqLM.from_pretrained(\"allegro/plt5-base\")"
   ]
  },
  {
   "cell_type": "markdown",
   "metadata": {
    "id": "5UhNiDor4CSa"
   },
   "source": [
    "## Trening modelu QA"
   ]
  },
  {
   "cell_type": "markdown",
   "metadata": {
    "id": "8TWCljD_yb0E"
   },
   "source": [
    "Ostatnim krokiem przed uruchomieniem treningu jest zdefiniowanie metryk, wskazujacych jak model radzi sobie z problemem. Wykorzystamy dwie metryki:\n",
    "* *exact match* - która sprawdza dokładne dopasowanie odpowiedzi do wartości referencyjnej, metryka ta jest bardzo restrykcyjna, ponieważ pojedynczy znak będzie powodował, że wartość będzie niepoprawna,\n",
    "* *blue score* - metryka uwzględniająca częściowe dopasowanie pomiędzy odpowiedzią a wartością referencyjną, najczęściej używana jest do oceny maszynowego tłumaczenia tekstu, ale może być również przydatna w ocenie wszelkich zadań, w których generowany jest tekst.\n",
    "\n",
    "Wykorzystujemy bibilotekę `evaluate`, która zawiera definicje obu metryk.\n",
    "\n",
    "Przy konwersji identyfikatorów tokenów na tekstu zamieniamy również z powroten tokeny o wartości -100 na identyfikatory paddingu. W przeciwnym razie dostaniemy błąd o nieistniejącym identyfikatorze tokenu.\n",
    "\n",
    "W procesie treningu pokazujemy również różnicę między jedną wygenerowaną oraz prawdziwą odpowiedzią dla zbioru ewaluacyjnego. W ten sposób możemy śledzić co rzeczywiście dzieje się w modelu."
   ]
  },
  {
   "cell_type": "code",
   "execution_count": 32,
   "metadata": {
    "id": "bcjDjmjT2rVm"
   },
   "outputs": [
    {
     "data": {
      "text/plain": "Downloading builder script:   0%|          | 0.00/5.67k [00:00<?, ?B/s]",
      "application/vnd.jupyter.widget-view+json": {
       "version_major": 2,
       "version_minor": 0,
       "model_id": "5240df8059c645f9a64beaedf6ad4628"
      }
     },
     "metadata": {},
     "output_type": "display_data"
    },
    {
     "data": {
      "text/plain": "Downloading builder script:   0%|          | 0.00/5.94k [00:00<?, ?B/s]",
      "application/vnd.jupyter.widget-view+json": {
       "version_major": 2,
       "version_minor": 0,
       "model_id": "9106e114b2cd47d785019dc55d45ddd1"
      }
     },
     "metadata": {},
     "output_type": "display_data"
    },
    {
     "data": {
      "text/plain": "Downloading extra modules:   0%|          | 0.00/1.55k [00:00<?, ?B/s]",
      "application/vnd.jupyter.widget-view+json": {
       "version_major": 2,
       "version_minor": 0,
       "model_id": "a06500c7d07b44188a94fff4b73330c6"
      }
     },
     "metadata": {},
     "output_type": "display_data"
    },
    {
     "data": {
      "text/plain": "Downloading extra modules:   0%|          | 0.00/3.34k [00:00<?, ?B/s]",
      "application/vnd.jupyter.widget-view+json": {
       "version_major": 2,
       "version_minor": 0,
       "model_id": "8e042fe3d4974cbeb52100accea7dc47"
      }
     },
     "metadata": {},
     "output_type": "display_data"
    }
   ],
   "source": [
    "from transformers import Seq2SeqTrainer, Seq2SeqTrainingArguments\n",
    "import numpy as np\n",
    "import evaluate\n",
    "\n",
    "exact = evaluate.load(\"exact_match\")\n",
    "bleu = evaluate.load(\"bleu\")\n",
    "\n",
    "\n",
    "def compute_metrics(eval_pred):\n",
    "    predictions, labels = eval_pred\n",
    "    predictions = np.where(predictions != -100, predictions, plt5_tokenizer.pad_token_id)\n",
    "    decoded_preds = plt5_tokenizer.batch_decode(predictions, skip_special_tokens=True)\n",
    "    labels = np.where(labels != -100, labels, plt5_tokenizer.pad_token_id)\n",
    "    decoded_labels = plt5_tokenizer.batch_decode(labels, skip_special_tokens=True)\n",
    "    print(\"prediction: \" + decoded_preds[0])\n",
    "    print(\"reference : \" + decoded_labels[0])\n",
    "\n",
    "    result = exact.compute(predictions=decoded_preds, references=decoded_labels)\n",
    "    result = {**result, **bleu.compute(predictions=decoded_preds, references=decoded_labels)}\n",
    "    del result[\"precisions\"]\n",
    "\n",
    "    prediction_lens = [np.count_nonzero(pred != plt5_tokenizer.pad_token_id) for pred in predictions]\n",
    "    result[\"gen_len\"] = np.mean(prediction_lens)\n",
    "\n",
    "    return result"
   ]
  },
  {
   "cell_type": "markdown",
   "metadata": {
    "id": "g_49SDmpy5yo"
   },
   "source": [
    "## Zadanie 6 (0.5 punkty)\n",
    "\n",
    "Korzystając z klasy Seq2SeqTrainingArguments zdefiniuj następujące parametry trenignu:\n",
    "* inny katalog z wynikami\n",
    "* liczba epok: 3\n",
    "* wielkość paczki: 16\n",
    "* ewaluacja co 100 kroków,\n",
    "* szybkość uczenia: 1e-4\n",
    "* optymalizator: adafactor\n",
    "* maksymalna długość generowanej odpowiedzi: 32,\n",
    "* akumulacja wyników ewaluacji: 4\n",
    "* generowanie wyników podczas ewaluacji\n",
    "\n",
    "**W treningu nie używamy optymalizacji FP16!** Jej użycie spowoduje, że model nie będzie się trenował. Jeśli chcesz użyć optymalizacji, to możesz skorzystać z **BF16**.\n",
    "\n",
    "Argumenty powinny również wskazywać, że przeprowadzoany jest proces uczenia i ewaluacji."
   ]
  },
  {
   "cell_type": "code",
   "execution_count": 34,
   "metadata": {
    "id": "t4fTGCQ5yWc-"
   },
   "outputs": [
    {
     "name": "stderr",
     "output_type": "stream",
     "text": [
      "C:\\Users\\Filip\\.conda\\envs\\PSIlab3\\lib\\site-packages\\transformers\\training_args.py:1426: FutureWarning: `--adafactor` is deprecated and will be removed in version 5 of 🤗 Transformers. Use `--optim adafactor` instead\n",
      "  warnings.warn(\n"
     ]
    }
   ],
   "source": [
    "# your_code\n",
    "\n",
    "from transformers import Seq2SeqTrainingArguments\n",
    "\n",
    "training_arguments = Seq2SeqTrainingArguments(\"./output/datasets-question-answering\",\n",
    "\n",
    "                                              num_train_epochs=3,\n",
    "\n",
    "                                              per_device_train_batch_size=16,\n",
    "                                              per_device_eval_batch_size=16,\n",
    "\n",
    "                                              evaluation_strategy=\"steps\",\n",
    "                                              eval_steps=100,\n",
    "\n",
    "                                              learning_rate=1e-4,\n",
    "\n",
    "                                              adafactor=True,\n",
    "\n",
    "                                              generation_max_length=32,\n",
    "\n",
    "                                              eval_accumulation_steps=4,\n",
    "\n",
    "                                              #predic_with_generate=True, # doesn't work\n",
    "\n",
    "\n",
    "\n",
    "\n",
    "                                              fp16=False,\n",
    "                                              bf16=True,\n",
    "\n",
    "                                              load_best_model_at_end=True,\n",
    "\n",
    "                                              do_train=True,\n",
    "                                              do_eval=True)\n"
   ]
  },
  {
   "cell_type": "markdown",
   "metadata": {
    "id": "r1wc95I3zrEC"
   },
   "source": [
    "## Zadanie 7 (0.5 punktu)\n",
    "\n",
    "Utwórz obiekt trenujący `Seq2SeqTrainer`, za pomocą którego będzie trenowany model odpowiadający na pytania.\n",
    "\n",
    "Obiekt ten powinien:\n",
    "* wykorzystywać model `plt5-base`,\n",
    "* wykorzystywać zbiór `train` do treningu,\n",
    "* wykorzystawać zbiór `dev` do evaluacji,\n",
    "* wykorzystać klasę batchującą (`data_collator`) o nazwie `DataCollatorWithPadding`."
   ]
  },
  {
   "cell_type": "code",
   "execution_count": 35,
   "metadata": {
    "ExecuteTime": {
     "end_time": "2022-12-20T14:05:20.769322Z",
     "start_time": "2022-12-20T14:05:20.344307Z"
    },
    "id": "X-l-Phk6zkvL"
   },
   "outputs": [],
   "source": [
    "from transformers import DataCollatorWithPadding\n",
    "from transformers import Seq2SeqTrainer\n",
    "\n",
    "trainer = Seq2SeqTrainer(model=model,\n",
    "                         args=training_arguments,\n",
    "                         compute_metrics=compute_metrics,\n",
    "                         train_dataset=datasets[\"train\"],\n",
    "                         eval_dataset=datasets[\"dev\"],\n",
    "                         data_collator=DataCollatorWithPadding(plt5_tokenizer))\n"
   ]
  },
  {
   "cell_type": "markdown",
   "source": [
    "%load_ext tensorboard\n",
    "%tensorboard --logdir gdrive/MyDrive/poquad/output_qa/runs"
   ],
   "metadata": {
    "collapsed": false
   }
  },
  {
   "cell_type": "markdown",
   "metadata": {
    "id": "-pyrQ4m70WE6"
   },
   "source": [
    "Mając przygotowane wszystkie dane wejściowe możemy rozpocząć proces treningu.\n",
    "\n",
    "**Uwaga**: proces treningu na Google Colab z wykorzystaniem akceleratora zajmuje ok. 3 godziny. Uruchomienie treningu na CPU może trwać ponad 1 dzień!\n",
    "\n",
    "Możesz pominąć ten proces i w kolejnych krokach wykorzystać gotowy model `apohllo/plt5-base-poquad`, który znajduje się w repozytorium Hugginface."
   ]
  },
  {
   "cell_type": "markdown",
   "source": [
    "trainer.train()"
   ],
   "metadata": {
    "collapsed": false
   }
  },
  {
   "cell_type": "code",
   "execution_count": 36,
   "outputs": [
    {
     "data": {
      "text/plain": "config.json:   0%|          | 0.00/826 [00:00<?, ?B/s]",
      "application/vnd.jupyter.widget-view+json": {
       "version_major": 2,
       "version_minor": 0,
       "model_id": "49c5ae5ac4454f7fb1bbdfeae883bb35"
      }
     },
     "metadata": {},
     "output_type": "display_data"
    },
    {
     "data": {
      "text/plain": "model.safetensors:   0%|          | 0.00/1.10G [00:00<?, ?B/s]",
      "application/vnd.jupyter.widget-view+json": {
       "version_major": 2,
       "version_minor": 0,
       "model_id": "68d7ca0ff16649b88ede46222cb19ab9"
      }
     },
     "metadata": {},
     "output_type": "display_data"
    },
    {
     "data": {
      "text/plain": "generation_config.json:   0%|          | 0.00/112 [00:00<?, ?B/s]",
      "application/vnd.jupyter.widget-view+json": {
       "version_major": 2,
       "version_minor": 0,
       "model_id": "f30513ec83de4159821f5a3ade65f375"
      }
     },
     "metadata": {},
     "output_type": "display_data"
    }
   ],
   "source": [
    "from transformers import AutoModelForSeq2SeqLM\n",
    "\n",
    "model = AutoModelForSeq2SeqLM.from_pretrained(\"apohllo/plt5-base-poquad\")"
   ],
   "metadata": {
    "collapsed": false
   }
  },
  {
   "cell_type": "markdown",
   "metadata": {
    "id": "L3-k_ctqvwmf"
   },
   "source": [
    "## Zadanie 8 (1.5 punkt)\n",
    "\n",
    "Korzystając z wywołania `generate` w modelu, wygeneruj odpowiedzi dla 1 kontekstu i 10 pytań dotyczących tego kontekstu. Pamiętaj aby zamienić identyfikatory tokenów na ich treść. Możesz do tygo wykorzystać wywołanie `decode` z tokenizera.\n",
    "\n",
    "Jeśli w poprzednim punkcie nie udało Ci się wytrenować modelu, możesz skorzystać z modelu `apohllo/plt5-base-poquad`.\n",
    "\n",
    "Oceń wyniki (odpowiedzi) generowane przez model."
   ]
  },
  {
   "cell_type": "code",
   "execution_count": 42,
   "metadata": {
    "id": "a4BuKkoPbEtn",
    "outputId": "161e346a-c7b0-4891-f13a-61b190f70226"
   },
   "outputs": [
    {
     "name": "stdout",
     "output_type": "stream",
     "text": [
      "['gen. Jerzy Ziętek', 'w 1950 roku', 'hałdy, odpady pogórnicze, biedaszyby, zapadliska, bagna, wysypiska, a także nieużytki rolnicze', 'prof. Władysław Niemirski', 'tereny o charakterze kulturalno-rekreacyjnym oraz tereny sprzyjające czynnemu wypoczynkowi', 'W 2013', 'spółka akcyjna Wojewódzki Park Kultury i Wypoczynku im. Gen. Jerzego Ziętka S.A. w Chorzowie', '„Wojewódzki Park Kultury i Wypoczynku im. Gen. Jerzego Ziętka”', '„Wojewódzki Park Kultury i Wypoczynku im. Gen. Jerzego Ziętka”', 'w lipcu 1951 roku', 'do Katowic']\n"
     ]
    }
   ],
   "source": [
    "# your_code\n",
    "\n",
    "context = \"Jednym z głównych inicjatorów powstania Parku był gen. Jerzy Ziętek. Decyzja o budowie tej największej inwestycji ekologicznej na Górnym Śląsku zapadła w 1950 roku na posiedzeniu Wojewódzkiej Rady Narodowej w Katowicach. Obszar inwestycji obejmował w 75% zdewastowane tereny poprzemysłowe: hałdy, odpady pogórnicze, biedaszyby, zapadliska, bagna, wysypiska, a także nieużytki rolnicze o powierzchni około 640 ha na terytorium Chorzowa i Katowic. Z powodu małej przydatności miejscowych kwaśnych gleb bielicowych na teren obecnego Parku przywieziono 3,5 miliona m³ ziemi i dowieziono 0,5 miliona m³ gleb próchnicznych i torfu. \\\n",
    "\\\n",
    "Budowę rozpoczęto w lipcu 1951 roku. Była ona realizowana w dużej części poprzez czyny społeczne. Zbierano również datki pieniężne i prowadzono sprzedaż kartoników filatelistycznych z dopłatą na budowę WPKiW. Podstawowym założeniem, jakim kierował się przy projektowaniu Parku zespół architektów kierowany przez prof. Władysława Niemirskiego, było podzielenie go na dwie strefy przy wykorzystaniu istniejącego układu topograficznego. Centralną część parku zaprojektowano więc jako teren o charakterze leśnym, poprzecinany siecią dróg, alejek i traktów pieszych mających sprzyjać wyciszeniu, biernemu wypoczynkowi oraz aktywnej rekreacji ruchowej. Pozostała część parku, ok. 13 ha, zaprojektowana została jako tereny o charakterze kulturalno-rekreacyjnym oraz tereny sprzyjające czynnemu wypoczynkowi, gdzie miały zostać wybudowane dodatkowe atrakcje oraz być organizowane festyny. \\\n",
    "\\\n",
    "W latach 50. i 60. XX wieku w parku realizowano kolejne inwestycje: stadion, ogród zoologiczny, wesołe miasteczko i planetarium. W 1957 uruchomiono ponad 5-kilometrową trasę kolejki wąskotorowej, a w 1967 – kolejkę linową „Elka”. W 1962 działalność rozpoczął ośrodek PTTK, a rok później ośrodek harcerski, z polem namiotowym i strzelnicą sportową. W 1966 oddane do użytku zostało kąpielisko „Fala”, a w 1968 nastąpiło otwarcie hali wystawowej „Kapelusz”, rosarium oraz, w owym czasie najwyższej na świecie, szklarni wieżowej. Był to najbardziej intensywny okres rozbudowy parku. W 1975 roku utworzono jeszcze Górnośląski Park Etnograficzny, a w 2007 roku powstał Park Linowy „Palenisko”. \\\n",
    "\\\n",
    "Na skutek wymiany gruntów podczas budowy os. Tysiąclecia w Katowicach, obecnie Park Śląski w całości znajduje się w granicach administracyjnych Chorzowa. Nie przynależy jednak do żadnej z jego dzielnic, co podkreśla jego regionalny charakter. \\\n",
    "\\\n",
    "16 kwietnia 2012, decyzją władz parku, dotychczas używana nazwa „Wojewódzki Park Kultury i Wypoczynku im. Gen. Jerzego Ziętka” została zmieniona na znacznie krótszą „Park Śląski”. Jest to nazwa marketingowa. Parkiem zarządza spółka akcyjna Wojewódzki Park Kultury i Wypoczynku im. Gen. Jerzego Ziętka S.A. w Chorzowie. \\\n",
    "\\\n",
    "W 2013 przy al. Klonowej oddano do użytku śmigłowcowe, sanitarne lądowisko Chorzów-Park.\"\n",
    "\n",
    "questions = [\n",
    "    \"Kto był inicjatorem powstania Parku?\",\n",
    "    \"Kiedy podjęto decyzję o budowie Parku?\",\n",
    "    \"Jakie tereny obejmowała inwestycja?\",\n",
    "    \"Kto zaprojektował Park?\",\n",
    "    \"Jakie atrakcje znajdowały się w Parku?\",\n",
    "    \"Kiedy oddano do użytku śmigłowcowe, sanitarne lądowisko Chorzów-Park?\",\n",
    "    \"Kto zarządza Parkiem?\",\n",
    "    \"Jaką nazwę nosił Park do 2012 roku?\",\n",
    "    \"Jaką nazwę nosi Park zaczynając od 2012 roku?\",\n",
    "    \"Kiedy rozpoczęto budowę Parku?\",\n",
    "    \"Do której dzielnicy Chorzowa należy park?\"]\n",
    "answers = []\n",
    "\n",
    "for question in questions:\n",
    "    input_ids = plt5_tokenizer.encode(f\"Pytanie: {question} Kontekst: {context}\", return_tensors=\"pt\")\n",
    "    output_ids = model.generate(input_ids, max_length=32)\n",
    "    output_text = plt5_tokenizer.decode(output_ids[0], skip_special_tokens=True)\n",
    "    answers.append(output_text)\n",
    "\n",
    "print(answers)"
   ]
  },
  {
   "cell_type": "markdown",
   "metadata": {
    "id": "FArrKA6E0ix3"
   },
   "source": [
    "W prawie wszystkich przypadkach odpowiedzi są poprawne, ale nie są one zbyt szczegółowe. W przypadku pytania o nazwę parku, model podał starą nazwę parku. Model radzi sobie bardzo dobrze z powierzonym mu zadaniem. Model podał praktycznie losową informację kiedy zadało mu się pytanie z założeniem, które jest błędne (ostatnie pytanie)."
   ]
  },
  {
   "cell_type": "markdown",
   "metadata": {
    "id": "S9mN-0PiFoBN"
   },
   "source": [
    "# Zadanie dodatkowe (2 punkty)\n",
    "\n",
    "Stworzenie pełnego rozwiązania w zakresie odpowiadania na pytania wymaga również znajdowania kontekstów, w których może pojawić się pytanie.\n",
    "\n",
    "Obenie istnieje coraz więcej modeli neuronalnych, które bardzo dobrze radzą sobie ze znajdowaniem odpowiednich tekstów. Również dla języka polskiego następuje tutaj istotny postęp. Powstała m.in. [strona śledząca postępy w tym zakresie](https://huggingface.co/spaces/sdadas/pirb).\n",
    "\n",
    "Korzystając z informacji na tej stronie wybierz jeden z modeli do wyszukiwania kontekstów (najlepiej o rozmiarze `base` lub `small`). Zamień konteksty występujące w zbiorze PoQuAD na reprezentacje wektorowe. To samo zrób z pytaniami występującymi w tym zbiorze. Dla każdego pytania znajdź kontekst, który według modelu najlepiej odpowiada na zadane pytanie. Do znalezienia kontekstu oblicz iloczyn skalarny pomiędzy reprezentacją pytania oraz wszystkimi kontekstami ze zbioru. Następnie uruchom model generujący odpowiedź na znalezionym kontekście. Porównaj wyniki uzyskiwane w ten sposób, z wynikami, gdy poprawny kontekst jest znany.\n",
    "\n",
    "W celu przyspieszenie obliczeń możesz zmniejszyć liczbę pytań i odpowiadających im kontekstów. Pamiętaj jednak, żeby liczba kontekstów była odpowiednio duża (sugerowana wartość min. to 1000 kontekstów), tak żeby znalezienie kontekstu nie było trywialne."
   ]
  },
  {
   "cell_type": "code",
   "execution_count": null,
   "metadata": {
    "id": "tyiLVOPfFoBN"
   },
   "outputs": [],
   "source": []
  }
 ],
 "metadata": {
  "accelerator": "GPU",
  "gpuClass": "standard",
  "kernelspec": {
   "display_name": "Python 3 (ipykernel)",
   "language": "python",
   "name": "python3"
  },
  "language_info": {
   "codemirror_mode": {
    "name": "ipython",
    "version": 3
   },
   "file_extension": ".py",
   "mimetype": "text/x-python",
   "name": "python",
   "nbconvert_exporter": "python",
   "pygments_lexer": "ipython3",
   "version": "3.10.6"
  },
  "toc": {
   "base_numbering": 1,
   "nav_menu": {},
   "number_sections": false,
   "sideBar": false,
   "skip_h1_title": false,
   "title_cell": "Table of Contents",
   "title_sidebar": "Contents",
   "toc_cell": false,
   "toc_position": {
    "height": "763px",
    "left": "10px",
    "top": "150px",
    "width": "294.188px"
   },
   "toc_section_display": true,
   "toc_window_display": true
  },
  "widgets": {}
 },
 "nbformat": 4,
 "nbformat_minor": 1
}
